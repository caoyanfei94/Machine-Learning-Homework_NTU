{
 "cells": [
  {
   "cell_type": "markdown",
   "id": "d9408a40",
   "metadata": {},
   "source": [
    "## Homework 3: Convolutional Neural Network\n",
    "\n",
    "Author: Cao Yanfei\n",
    "\n",
    "Requirements: build a convolutional neural network for image classification, possibly with some advanced training tips.\n",
    "\n",
    "Three levels here:\n",
    "**Easy**: Build a simple convolutional neural network as the baseline.\n",
    "**Medium**: Design a better architecture or adopt **different data augmentations** to improve the performance.\n",
    "**Hard**: Utilize provided unlabled data to obtain better results."
   ]
  },
  {
   "cell_type": "markdown",
   "id": "7de7a1b7",
   "metadata": {},
   "source": [
    "### About the Dataset\n",
    "\n",
    "The dataset used here is food-11, a collection of food images in 11 classes.\n",
    "\n",
    "For the requirement in the homework, TAs slightly modified the data. Please do not access the original fully-labeled training data or testing labels.\n",
    "\n",
    "Also, the modified dataset is for this course only, and any further distribution or commercial use is forbidden."
   ]
  },
  {
   "cell_type": "code",
   "execution_count": 1,
   "id": "bfee623a",
   "metadata": {},
   "outputs": [],
   "source": [
    "# Download the dataset\n",
    "# You may choose where to download the data.\n",
    "\n",
    "# Google drive\n",
    "# !gdown --id '1awF7pZ9Dz7X1jn1_QAiKN-_v56veCEKy' --output food-11.zip\n",
    "\n",
    "# Dropbox\n",
    "# !wget https://www.dropbox.com/s/m9q6273jl3djall/food-11.zip -O food-11.zip\n",
    "\n",
    "# MEGA\n",
    "# !sudo apt install megatools\n",
    "# !megadl \"https://mega.nz/#!zt1TTIhK!ZuMbg5ZjGWzWX1I6nEUbfjMZgCmAgeqJlwDkqdIryfg\"\n",
    "\n",
    "# Unzip the dataset\n",
    "# !unzip -q food-11.zip"
   ]
  },
  {
   "cell_type": "markdown",
   "id": "665f5259",
   "metadata": {},
   "source": [
    "### Import Packages\n",
    "\n",
    "First, we need to import packages that will be used later.\n",
    "\n",
    "In this homework, we highly rely on **torchvision**, a library of PyTorch."
   ]
  },
  {
   "cell_type": "code",
   "execution_count": 2,
   "id": "35b892a3",
   "metadata": {},
   "outputs": [
    {
     "name": "stderr",
     "output_type": "stream",
     "text": [
      "D:\\software\\Anaconda3\\installation\\envs\\test\\lib\\site-packages\\tqdm\\auto.py:22: TqdmWarning: IProgress not found. Please update jupyter and ipywidgets. See https://ipywidgets.readthedocs.io/en/stable/user_install.html\n",
      "  from .autonotebook import tqdm as notebook_tqdm\n"
     ]
    }
   ],
   "source": [
    "# import necessary packages\n",
    "import numpy as np\n",
    "import torch\n",
    "import torch.nn as nn\n",
    "import torchvision.transforms as transforms\n",
    "from PIL import Image\n",
    "\n",
    "# 'ConcatDataset' and 'Subset' are possibly useful when doing semi-supervised learning.\n",
    "from torch.utils.data import ConcatDataset, DataLoader, Subset\n",
    "from torchvision.datasets import DatasetFolder\n",
    "\n",
    "# This is for the progress bar.\n",
    "from tqdm.auto import tqdm"
   ]
  },
  {
   "cell_type": "markdown",
   "id": "d059d397",
   "metadata": {},
   "source": [
    "### Dataset, Data Loader and Transforms\n",
    "\n",
    "Torchvision provides lots of useful utilities for image preprocessing, data wrapping as well as data augmentation.\n",
    "\n",
    "Here, since our **data are stored in folders by class labels**, we can directly apply `torchvision.datasets.DataFolder` for wrapping data without much effort.\n",
    "\n",
    "Please refer to [Pytorch official website](https://pytorch.org/vision/stable/transforms.html) for details about different transforms."
   ]
  },
  {
   "cell_type": "code",
   "execution_count": 3,
   "id": "4eea2d44",
   "metadata": {},
   "outputs": [],
   "source": [
    "# It is important to do data augmentation in training.\n",
    "# However, not every augmentation is useful.\n",
    "# Please think about what kind of augmentation is helpful for food recognition.\n",
    "train_transforms1 = transforms.Compose([\n",
    "    # Resize the image into a fixed shape (height=width=128)\n",
    "    transforms.Resize((128, 128)),  \n",
    "    # ToTensor() should be the last one of the transforms.\n",
    "    transforms.ToTensor(),\n",
    "])\n",
    "\n",
    "# You may add some transforms here for data augmentation.\n",
    "# TODO.......................................................\n",
    "train_transforms2 = transforms.Compose([\n",
    "    transforms.Resize((128, 128)),\n",
    "    # transforms.RandomPerspective(p=0.5)\n",
    "    # Performs a random perspective transformation of the given image with a given probability.\n",
    "    transforms.RandomPerspective(p=1),\n",
    "    transforms.ToTensor(),\n",
    "])\n",
    "\n",
    "train_transforms3 = transforms.Compose([\n",
    "    transforms.Resize((128, 128)),\n",
    "    # transforms.RandomRotation(degrees)\n",
    "    # Rotate the image by angle.\n",
    "    transforms.RandomRotation((0, 180)),\n",
    "    transforms.ToTensor(),\n",
    "])\n",
    "\n",
    "train_transforms4 = transforms.Compose([\n",
    "    transforms.Resize((128, 128)),\n",
    "    # transforms.RandomCrop(size)\n",
    "    # Crop the given image at a random location and enlargerd to a given size.\n",
    "    transforms.RandomCrop((128, 128)),\n",
    "    transforms.ToTensor(),\n",
    "])\n",
    "\n",
    "train_transforms5 = transforms.Compose([\n",
    "    transforms.Resize((128, 128)),\n",
    "    # transforms.RandomHorizontalFlip(p=0.5)\n",
    "    # Horizontally flip the given image randomly with a given probability.\n",
    "    transforms.RandomHorizontalFlip(p=1),\n",
    "    transforms.ToTensor(),\n",
    "])\n",
    "\n",
    "# We do not need augmentation in testing and validation.\n",
    "# All we need here is to resize the PIL image and transform it into Tensor.\n",
    "test_transforms = transforms.Compose([\n",
    "    transforms.Resize((128, 128)),\n",
    "    transforms.ToTensor(),\n",
    "])"
   ]
  },
  {
   "cell_type": "code",
   "execution_count": 4,
   "id": "0094f847",
   "metadata": {},
   "outputs": [],
   "source": [
    "# Batch size for training, validation, and testing.\n",
    "# A greater batch size usually gives a more stable gradient.\n",
    "# But the GPU memory is limited, so please adjust it carefully.\n",
    "BATCH_SIZE = 128\n",
    "\n",
    "# Construct datasets\n",
    "# The argument 'loader' tells how torchvision reads the data.\n",
    "# Concatenate all dataset obtained from data augmentation to form a final train_set.\n",
    "# TODO..................................................................\n",
    "train_set1 = DatasetFolder('./dataset/food-11/training/labeled', loader=lambda x: Image.open(x), extensions='jpg', transform=train_transforms1)\n",
    "train_set2 = DatasetFolder('./dataset/food-11/training/labeled', loader=lambda x: Image.open(x), extensions='jpg', transform=train_transforms2)\n",
    "train_set3 = DatasetFolder('./dataset/food-11/training/labeled', loader=lambda x: Image.open(x), extensions='jpg', transform=train_transforms3)\n",
    "train_set4 = DatasetFolder('./dataset/food-11/training/labeled', loader=lambda x: Image.open(x), extensions='jpg', transform=train_transforms4)\n",
    "train_set5 = DatasetFolder('./dataset/food-11/training/labeled', loader=lambda x: Image.open(x), extensions='jpg', transform=train_transforms5)\n",
    "\n",
    "train_set = ConcatDataset([train_set1, train_set2, train_set3, train_set4, train_set5])\n",
    "valid_set = DatasetFolder('./dataset/food-11/validation', loader=lambda x: Image.open(x), extensions='jpg', transform=test_transforms)\n",
    "unlabeled_set = DatasetFolder('./dataset/food-11/training/unlabeled', loader=lambda x: Image.open(x), extensions='jpg', transform=train_transforms1)\n",
    "test_set = DatasetFolder('./dataset/food-11/testing', loader=lambda x: Image.open(x), extensions='jpg', transform=test_transforms)\n",
    "\n",
    "# Construct data loaders\n",
    "train_loader = DataLoader(train_set, batch_size=BATCH_SIZE, shuffle=True, num_workers=0, pin_memory=True)\n",
    "valid_loader = DataLoader(valid_set, batch_size=BATCH_SIZE, shuffle=True, num_workers=0, pin_memory=True)\n",
    "test_loader = DataLoader(test_set, batch_size=BATCH_SIZE, shuffle=False)"
   ]
  },
  {
   "cell_type": "markdown",
   "id": "6b96e1c5",
   "metadata": {},
   "source": [
    "## Model\n",
    "\n",
    "The basic model here is simply a stack of convolutional layers followed by some fully-connected layers.\n",
    "\n",
    "Since there are three channels for a color image(RGB), the input channels of the network must be three. In each convolutional layer, typically the **channels of inputs grow**, while the **height and width shrink** (or remain unchanged, according to some **hyperparameters like stride and padding**).\n",
    "\n",
    "Before fed into fully-connected layers, the feature map must be **flattened** into a single one-dimensional vector(for each image). These features are then transformed by the fully-connected layers, and finally, we obtain the 'logits' for each class.\n",
    "\n",
    "## Warning -- You must know\n",
    "\n",
    "You are free to modify the model architecture here for further improvement. However, if you want to use some well-known architectures such as ResNet50, please make sure **NOT** to load the pretrained weights. Using such pre-trained models is considered cheating and therefore you will be punished. Similarly, it is your responsibility to make sure no pre-trained weights are used if you use **torch.hub** to load any modules.\n",
    "\n",
    "For example, if you use ResNet-18 as your model:\n",
    "\n",
    "model = torchvision.models.resnet18(pretrained=False)  -> This is fine.\n",
    "model = torchvision.models.resnet18(pretrained=True)  -> This is not allowed."
   ]
  },
  {
   "cell_type": "code",
   "execution_count": 5,
   "id": "6c59af02",
   "metadata": {},
   "outputs": [],
   "source": [
    "class Classifier(nn.Module):\n",
    "    def __init__(self):\n",
    "        super(Classifier, self).__init__()\n",
    "        # The arguments for commonly used modules:\n",
    "        # torch.nn.Conv2d(in_channels, out_channels, kernel_size, stride, padding)\n",
    "        # torch.nn.MaxPool2d(kernel_size, stride, padding)\n",
    "        \n",
    "        # input image size: [3, 128, 128]\n",
    "#         self.CNN_layers = nn.Sequential(\n",
    "#             nn.Conv2d(3, 64, 3, 1, 1),\n",
    "#             nn.BatchNorm2d(64),\n",
    "#             nn.ReLU(),\n",
    "#             nn.MaxPool2d(2, 2, 0),\n",
    "            \n",
    "#             nn.Conv2d(64, 128, 3, 1, 1),\n",
    "#             nn.BatchNorm2d(128),\n",
    "#             nn.ReLU(),\n",
    "#             nn.MaxPool2d(2, 2, 0),\n",
    "            \n",
    "#             nn.Conv2d(128, 256, 3, 1, 1),\n",
    "#             nn.BatchNorm2d(256),\n",
    "#             nn.ReLU(),\n",
    "#             nn.MaxPool2d(4, 4, 0),\n",
    "#         )\n",
    "        \n",
    "#         self.FCN_layers = nn.Sequential(\n",
    "#             nn.Linear(256 * 8 * 8, 256),\n",
    "#             nn.ReLU(),\n",
    "#             nn.Linear(256, 256),\n",
    "#             nn.ReLU(),\n",
    "#             nn.Linear(256, 11),\n",
    "#         )\n",
    "\n",
    "        # Construct your own network architecture\n",
    "        # TODO.......................................................................\n",
    "        # This network is based on AlexNet\n",
    "        self.features = nn.Sequential(\n",
    "            nn.Conv2d(3, 64, kernel_size=6, stride=2, padding=2),    # -> [64, 63, 63]\n",
    "            nn.ReLU(inplace=True),\n",
    "            nn.MaxPool2d(kernel_size=3, stride=2),                   # -> [64, 31, 31]\n",
    "            \n",
    "            nn.Conv2d(64, 192, kernel_size=3, stride=1, padding=1),  # -> [192, 31, 31]\n",
    "            nn.ReLU(inplace=True),\n",
    "            nn.MaxPool2d(kernel_size=3, stride=2),                   # -> [192, 15, 15]\n",
    "            \n",
    "            nn.Conv2d(192, 384, kernel_size=3, padding=1),           # -> [384, 15, 15]\n",
    "            nn.ReLU(inplace=True),\n",
    "            nn.Conv2d(384, 256, kernel_size=3, padding=1),           # -> [256, 15, 15]\n",
    "            nn.ReLU(inplace=True),\n",
    "            nn.MaxPool2d(kernel_size=3, stride=2),                   # -> [256, 7, 7]\n",
    "        )\n",
    "\n",
    "        self.classifier = nn.Sequential(\n",
    "            nn.Dropout(p=0.4),\n",
    "            nn.Linear(256 * 7 * 7, 1024),\n",
    "            nn.ReLU(inplace=True),\n",
    "            nn.BatchNorm1d(1024),\n",
    "            \n",
    "            nn.Dropout(p=0.5),\n",
    "            nn.Linear(1024, 512),\n",
    "            nn.ReLU(inplace=True),\n",
    "            nn.BatchNorm1d(512),\n",
    "            \n",
    "            nn.Linear(512, 11)\n",
    "        )\n",
    "        \n",
    "        \n",
    "    def forward(self, x):\n",
    "        # input(x): [BATCH_SIZE, 3, 128, 128]\n",
    "        # output: [BATCBATCH_SIZE, 11]\n",
    "\n",
    "        # Extracted features by convolutional layers.\n",
    "        # x = self.CNN_layers(x)\n",
    "        x = self.features(x)\n",
    "\n",
    "        # Extracted features map must be flatten before going to fully-connected layer.\n",
    "        # x = x.flatten(1)\n",
    "        x = torch.flatten(x, 1)\n",
    "\n",
    "        # The features are transformed by fully-connected layers to obtain the final logits.\n",
    "        # x = self.FCN_layers(x)\n",
    "        x = self.classifier(x)\n",
    "\n",
    "        return x"
   ]
  },
  {
   "cell_type": "markdown",
   "id": "1c48a249",
   "metadata": {},
   "source": [
    "### Training\n",
    "\n",
    "You can finish supervised learning by simply running the provided code without any modification.\n",
    "\n",
    "The function `get_pseudo_labels` is used for semi-supervised learning. It is expected to get better performance if you use unlabeled data for semi-supervised learning. However, you have to implement the function on your own and need to adjust several hyperparameters manually.\n",
    "\n",
    "For more details about semi-supervised learning, please refer to some related videos.\n",
    "\n",
    "Again, please notice that utilizing external data (or pre-trained model) for training is prohibited."
   ]
  },
  {
   "cell_type": "code",
   "execution_count": 6,
   "id": "e03a781e",
   "metadata": {},
   "outputs": [],
   "source": [
    "# Construct extra dataset for semi-supervised learning.\n",
    "def get_pseudo_labels(dataset, model, threshold=0.65):\n",
    "    # This functions generates pseudo-labels of a dataset using given model.\n",
    "    # It returns an instance of DatasetFolder containing images whose prediction confidences exceed a given threshold.\n",
    "    # You are NOT allowed to use any models trained on external data for pseudo-labeling.\n",
    "    device = 'cuda' if torch.cuda.is_available() else 'cpu'\n",
    "    \n",
    "    # Construct a data loader.\n",
    "    data_loader = DataLoader(dataset, batch_size=BATCH_SIZE, shuffle=False)\n",
    "    \n",
    "    # Make sure the model is in eval mode.\n",
    "    model.eval()\n",
    "    \n",
    "    # Define softmax function\n",
    "    softmax = nn.Softmax(dim=-1)\n",
    "    relabels = torch.as_tensor([]).to(device)\n",
    "    \n",
    "    # Iterate over the dataset by batches.\n",
    "    for batch in tqdm(data_loader):\n",
    "        img, _ = batch\n",
    "        \n",
    "        # Forward the data\n",
    "        # Using torch.no_grad() accelerates the forward process.\n",
    "        with torch.no_grad():\n",
    "            logits = model(img.to(device))\n",
    "        \n",
    "        # Obtain the probability distributions by applying softmax on logits.\n",
    "        probs = softmax(logits)\n",
    "        \n",
    "        # Filter the data and construct a new dataset.\n",
    "        # TODO...................................................................\n",
    "        maxpred, pseudo_labels = torch.max(probs, dim=1)      # torch.max(input, dim=1) return maximun in each row，and its index（row index of the maximum in this row）\n",
    "        # Highlight the label with -1 if p fails to reach a certain threshold\n",
    "        pseudo_labels[maxpred < threshold] = -1\n",
    "        # Obtain all pseudo labels of data from dataset\n",
    "        relabels = torch.cat((relabels, pseudo_labels), 0)    # torch.cat() like 'append' func for common iterators\n",
    "        \n",
    "    # Update dataset label\n",
    "    dataset.targets = relabels\n",
    "    # pick out usable pseudo labels\n",
    "    select_data_index = relabels > -1\n",
    "    select_data_index = [i for i in range(len(select_data_index)) if select_data_index[i] == True]    # list comprehensions\n",
    "    # pick out remnant unusable pseudo labels\n",
    "    remainder_data_index = relabels == -1\n",
    "    remainder_data_index = [i for i in range(len(remainder_data_index)) if remainder_data_index[i] == True]\n",
    "    # Construct filtered dataset with a high enough confidence\n",
    "    result_dataset = Subset(dataset, select_data_index)\n",
    "    \n",
    "    # Turn off the eval mode.\n",
    "    model.train()\n",
    "    return result_dataset, remainder_data_index"
   ]
  },
  {
   "cell_type": "code",
   "execution_count": 7,
   "id": "f41790e6",
   "metadata": {
    "scrolled": false
   },
   "outputs": [
    {
     "name": "stderr",
     "output_type": "stream",
     "text": [
      "100%|████████████████████████████████████████████████████████████████████████████████| 121/121 [11:26<00:00,  5.67s/it]\n"
     ]
    },
    {
     "name": "stdout",
     "output_type": "stream",
     "text": [
      "[Training | 001/025] loss = 2.09690, acc = 0.25817\n"
     ]
    },
    {
     "name": "stderr",
     "output_type": "stream",
     "text": [
      "100%|████████████████████████████████████████████████████████████████████████████████████| 6/6 [00:14<00:00,  2.43s/it]\n"
     ]
    },
    {
     "name": "stdout",
     "output_type": "stream",
     "text": [
      "[Validation | 001/025] loss = 2.31315, acc = 0.22057\n"
     ]
    },
    {
     "name": "stderr",
     "output_type": "stream",
     "text": [
      "100%|████████████████████████████████████████████████████████████████████████████████| 121/121 [11:22<00:00,  5.64s/it]\n"
     ]
    },
    {
     "name": "stdout",
     "output_type": "stream",
     "text": [
      "[Training | 002/025] loss = 1.66737, acc = 0.41569\n"
     ]
    },
    {
     "name": "stderr",
     "output_type": "stream",
     "text": [
      "100%|████████████████████████████████████████████████████████████████████████████████████| 6/6 [00:15<00:00,  2.61s/it]\n"
     ]
    },
    {
     "name": "stdout",
     "output_type": "stream",
     "text": [
      "[Validation | 002/025] loss = 1.66061, acc = 0.42760\n"
     ]
    },
    {
     "name": "stderr",
     "output_type": "stream",
     "text": [
      "100%|████████████████████████████████████████████████████████████████████████████████| 121/121 [11:18<00:00,  5.61s/it]\n"
     ]
    },
    {
     "name": "stdout",
     "output_type": "stream",
     "text": [
      "[Training | 003/025] loss = 1.44598, acc = 0.49535\n"
     ]
    },
    {
     "name": "stderr",
     "output_type": "stream",
     "text": [
      "100%|████████████████████████████████████████████████████████████████████████████████████| 6/6 [00:15<00:00,  2.62s/it]\n"
     ]
    },
    {
     "name": "stdout",
     "output_type": "stream",
     "text": [
      "[Validation | 003/025] loss = 1.95330, acc = 0.36745\n"
     ]
    },
    {
     "name": "stderr",
     "output_type": "stream",
     "text": [
      "100%|████████████████████████████████████████████████████████████████████████████████| 121/121 [11:34<00:00,  5.74s/it]\n"
     ]
    },
    {
     "name": "stdout",
     "output_type": "stream",
     "text": [
      "[Training | 004/025] loss = 1.23899, acc = 0.57122\n"
     ]
    },
    {
     "name": "stderr",
     "output_type": "stream",
     "text": [
      "100%|████████████████████████████████████████████████████████████████████████████████████| 6/6 [00:17<00:00,  2.88s/it]\n"
     ]
    },
    {
     "name": "stdout",
     "output_type": "stream",
     "text": [
      "[Validation | 004/025] loss = 1.62063, acc = 0.44974\n"
     ]
    },
    {
     "name": "stderr",
     "output_type": "stream",
     "text": [
      "100%|████████████████████████████████████████████████████████████████████████████████| 121/121 [12:09<00:00,  6.03s/it]\n"
     ]
    },
    {
     "name": "stdout",
     "output_type": "stream",
     "text": [
      "[Training | 005/025] loss = 1.09538, acc = 0.62226\n"
     ]
    },
    {
     "name": "stderr",
     "output_type": "stream",
     "text": [
      "100%|████████████████████████████████████████████████████████████████████████████████████| 6/6 [00:16<00:00,  2.70s/it]\n"
     ]
    },
    {
     "name": "stdout",
     "output_type": "stream",
     "text": [
      "[Validation | 005/025] loss = 1.37251, acc = 0.52292\n"
     ]
    },
    {
     "name": "stderr",
     "output_type": "stream",
     "text": [
      "100%|████████████████████████████████████████████████████████████████████████████████| 121/121 [11:47<00:00,  5.84s/it]\n"
     ]
    },
    {
     "name": "stdout",
     "output_type": "stream",
     "text": [
      "[Training | 006/025] loss = 0.96278, acc = 0.67149\n"
     ]
    },
    {
     "name": "stderr",
     "output_type": "stream",
     "text": [
      "100%|████████████████████████████████████████████████████████████████████████████████████| 6/6 [00:16<00:00,  2.68s/it]\n"
     ]
    },
    {
     "name": "stdout",
     "output_type": "stream",
     "text": [
      "[Validation | 006/025] loss = 1.75116, acc = 0.50625\n"
     ]
    },
    {
     "name": "stderr",
     "output_type": "stream",
     "text": [
      "100%|████████████████████████████████████████████████████████████████████████████████| 121/121 [10:11<00:00,  5.05s/it]\n"
     ]
    },
    {
     "name": "stdout",
     "output_type": "stream",
     "text": [
      "[Training | 007/025] loss = 0.84419, acc = 0.70996\n"
     ]
    },
    {
     "name": "stderr",
     "output_type": "stream",
     "text": [
      "100%|████████████████████████████████████████████████████████████████████████████████████| 6/6 [00:14<00:00,  2.41s/it]\n"
     ]
    },
    {
     "name": "stdout",
     "output_type": "stream",
     "text": [
      "[Validation | 007/025] loss = 1.50335, acc = 0.53047\n"
     ]
    },
    {
     "name": "stderr",
     "output_type": "stream",
     "text": [
      "100%|████████████████████████████████████████████████████████████████████████████████| 121/121 [09:23<00:00,  4.66s/it]\n"
     ]
    },
    {
     "name": "stdout",
     "output_type": "stream",
     "text": [
      "[Training | 008/025] loss = 0.74027, acc = 0.75523\n"
     ]
    },
    {
     "name": "stderr",
     "output_type": "stream",
     "text": [
      "100%|████████████████████████████████████████████████████████████████████████████████████| 6/6 [00:12<00:00,  2.06s/it]\n"
     ]
    },
    {
     "name": "stdout",
     "output_type": "stream",
     "text": [
      "[Validation | 008/025] loss = 1.61474, acc = 0.53125\n"
     ]
    },
    {
     "name": "stderr",
     "output_type": "stream",
     "text": [
      "100%|████████████████████████████████████████████████████████████████████████████████| 121/121 [09:21<00:00,  4.64s/it]\n"
     ]
    },
    {
     "name": "stdout",
     "output_type": "stream",
     "text": [
      "[Training | 009/025] loss = 0.64765, acc = 0.78036\n"
     ]
    },
    {
     "name": "stderr",
     "output_type": "stream",
     "text": [
      "100%|████████████████████████████████████████████████████████████████████████████████████| 6/6 [00:16<00:00,  2.71s/it]\n"
     ]
    },
    {
     "name": "stdout",
     "output_type": "stream",
     "text": [
      "[Validation | 009/025] loss = 1.71634, acc = 0.49609\n"
     ]
    },
    {
     "name": "stderr",
     "output_type": "stream",
     "text": [
      "100%|████████████████████████████████████████████████████████████████████████████████| 121/121 [11:15<00:00,  5.58s/it]\n"
     ]
    },
    {
     "name": "stdout",
     "output_type": "stream",
     "text": [
      "[Training | 010/025] loss = 0.57793, acc = 0.80917\n"
     ]
    },
    {
     "name": "stderr",
     "output_type": "stream",
     "text": [
      "100%|████████████████████████████████████████████████████████████████████████████████████| 6/6 [00:13<00:00,  2.29s/it]\n"
     ]
    },
    {
     "name": "stdout",
     "output_type": "stream",
     "text": [
      "[Validation | 010/025] loss = 1.40948, acc = 0.56927\n"
     ]
    },
    {
     "name": "stderr",
     "output_type": "stream",
     "text": [
      "100%|████████████████████████████████████████████████████████████████████████████████| 121/121 [10:52<00:00,  5.40s/it]\n"
     ]
    },
    {
     "name": "stdout",
     "output_type": "stream",
     "text": [
      "[Training | 011/025] loss = 0.50808, acc = 0.83266\n"
     ]
    },
    {
     "name": "stderr",
     "output_type": "stream",
     "text": [
      "100%|████████████████████████████████████████████████████████████████████████████████████| 6/6 [00:12<00:00,  2.15s/it]\n"
     ]
    },
    {
     "name": "stdout",
     "output_type": "stream",
     "text": [
      "[Validation | 011/025] loss = 1.30941, acc = 0.61198\n"
     ]
    },
    {
     "name": "stderr",
     "output_type": "stream",
     "text": [
      "100%|██████████████████████████████████████████████████████████████████████████████████| 54/54 [02:07<00:00,  2.36s/it]\n"
     ]
    },
    {
     "name": "stdout",
     "output_type": "stream",
     "text": [
      "[Train | 012/025] Length of unlabeled_set:3483\n",
      "[Train | 012/025] Length of new train_set:18703\n"
     ]
    },
    {
     "name": "stderr",
     "output_type": "stream",
     "text": [
      "100%|████████████████████████████████████████████████████████████████████████████████| 147/147 [12:22<00:00,  5.05s/it]\n"
     ]
    },
    {
     "name": "stdout",
     "output_type": "stream",
     "text": [
      "[Training | 012/025] loss = 1.11081, acc = 0.65866\n"
     ]
    },
    {
     "name": "stderr",
     "output_type": "stream",
     "text": [
      "100%|████████████████████████████████████████████████████████████████████████████████████| 6/6 [00:12<00:00,  2.07s/it]\n"
     ]
    },
    {
     "name": "stdout",
     "output_type": "stream",
     "text": [
      "[Validation | 012/025] loss = 1.86249, acc = 0.38359\n"
     ]
    },
    {
     "name": "stderr",
     "output_type": "stream",
     "text": [
      "100%|████████████████████████████████████████████████████████████████████████████████| 147/147 [11:30<00:00,  4.70s/it]\n"
     ]
    },
    {
     "name": "stdout",
     "output_type": "stream",
     "text": [
      "[Training | 013/025] loss = 0.83600, acc = 0.70083\n"
     ]
    },
    {
     "name": "stderr",
     "output_type": "stream",
     "text": [
      "100%|████████████████████████████████████████████████████████████████████████████████████| 6/6 [00:13<00:00,  2.29s/it]\n"
     ]
    },
    {
     "name": "stdout",
     "output_type": "stream",
     "text": [
      "[Validation | 013/025] loss = 1.82243, acc = 0.39427\n"
     ]
    },
    {
     "name": "stderr",
     "output_type": "stream",
     "text": [
      "100%|████████████████████████████████████████████████████████████████████████████████| 147/147 [11:31<00:00,  4.70s/it]\n"
     ]
    },
    {
     "name": "stdout",
     "output_type": "stream",
     "text": [
      "[Training | 014/025] loss = 0.71143, acc = 0.74638\n"
     ]
    },
    {
     "name": "stderr",
     "output_type": "stream",
     "text": [
      "100%|████████████████████████████████████████████████████████████████████████████████████| 6/6 [00:12<00:00,  2.13s/it]\n"
     ]
    },
    {
     "name": "stdout",
     "output_type": "stream",
     "text": [
      "[Validation | 014/025] loss = 1.59725, acc = 0.50313\n"
     ]
    },
    {
     "name": "stderr",
     "output_type": "stream",
     "text": [
      "100%|████████████████████████████████████████████████████████████████████████████████| 147/147 [11:41<00:00,  4.77s/it]\n"
     ]
    },
    {
     "name": "stdout",
     "output_type": "stream",
     "text": [
      "[Training | 015/025] loss = 0.61664, acc = 0.78137\n"
     ]
    },
    {
     "name": "stderr",
     "output_type": "stream",
     "text": [
      "100%|████████████████████████████████████████████████████████████████████████████████████| 6/6 [00:12<00:00,  2.13s/it]\n"
     ]
    },
    {
     "name": "stdout",
     "output_type": "stream",
     "text": [
      "[Validation | 015/025] loss = 1.60919, acc = 0.51328\n"
     ]
    },
    {
     "name": "stderr",
     "output_type": "stream",
     "text": [
      "100%|████████████████████████████████████████████████████████████████████████████████| 147/147 [11:26<00:00,  4.67s/it]\n"
     ]
    },
    {
     "name": "stdout",
     "output_type": "stream",
     "text": [
      "[Training | 016/025] loss = 0.57144, acc = 0.79137\n"
     ]
    },
    {
     "name": "stderr",
     "output_type": "stream",
     "text": [
      "100%|████████████████████████████████████████████████████████████████████████████████████| 6/6 [00:12<00:00,  2.11s/it]\n"
     ]
    },
    {
     "name": "stdout",
     "output_type": "stream",
     "text": [
      "[Validation | 016/025] loss = 1.91378, acc = 0.39062\n"
     ]
    },
    {
     "name": "stderr",
     "output_type": "stream",
     "text": [
      "100%|████████████████████████████████████████████████████████████████████████████████| 147/147 [11:02<00:00,  4.51s/it]\n"
     ]
    },
    {
     "name": "stdout",
     "output_type": "stream",
     "text": [
      "[Training | 017/025] loss = 0.50890, acc = 0.82195\n"
     ]
    },
    {
     "name": "stderr",
     "output_type": "stream",
     "text": [
      "100%|████████████████████████████████████████████████████████████████████████████████████| 6/6 [00:12<00:00,  2.04s/it]\n"
     ]
    },
    {
     "name": "stdout",
     "output_type": "stream",
     "text": [
      "[Validation | 017/025] loss = 2.12671, acc = 0.38776\n"
     ]
    },
    {
     "name": "stderr",
     "output_type": "stream",
     "text": [
      "100%|████████████████████████████████████████████████████████████████████████████████| 147/147 [11:01<00:00,  4.50s/it]\n"
     ]
    },
    {
     "name": "stdout",
     "output_type": "stream",
     "text": [
      "[Training | 018/025] loss = 0.45049, acc = 0.83947\n"
     ]
    },
    {
     "name": "stderr",
     "output_type": "stream",
     "text": [
      "100%|████████████████████████████████████████████████████████████████████████████████████| 6/6 [00:12<00:00,  2.01s/it]\n"
     ]
    },
    {
     "name": "stdout",
     "output_type": "stream",
     "text": [
      "[Validation | 018/025] loss = 1.99608, acc = 0.43854\n"
     ]
    },
    {
     "name": "stderr",
     "output_type": "stream",
     "text": [
      "100%|████████████████████████████████████████████████████████████████████████████████| 147/147 [10:53<00:00,  4.45s/it]\n"
     ]
    },
    {
     "name": "stdout",
     "output_type": "stream",
     "text": [
      "[Training | 019/025] loss = 0.41542, acc = 0.85533\n"
     ]
    },
    {
     "name": "stderr",
     "output_type": "stream",
     "text": [
      "100%|████████████████████████████████████████████████████████████████████████████████████| 6/6 [00:12<00:00,  2.03s/it]\n"
     ]
    },
    {
     "name": "stdout",
     "output_type": "stream",
     "text": [
      "[Validation | 019/025] loss = 1.84403, acc = 0.44089\n"
     ]
    },
    {
     "name": "stderr",
     "output_type": "stream",
     "text": [
      "100%|████████████████████████████████████████████████████████████████████████████████| 147/147 [10:51<00:00,  4.43s/it]\n"
     ]
    },
    {
     "name": "stdout",
     "output_type": "stream",
     "text": [
      "[Training | 020/025] loss = 0.38369, acc = 0.86577\n"
     ]
    },
    {
     "name": "stderr",
     "output_type": "stream",
     "text": [
      "100%|████████████████████████████████████████████████████████████████████████████████████| 6/6 [00:12<00:00,  2.06s/it]\n"
     ]
    },
    {
     "name": "stdout",
     "output_type": "stream",
     "text": [
      "[Validation | 020/025] loss = 2.01673, acc = 0.41719\n"
     ]
    },
    {
     "name": "stderr",
     "output_type": "stream",
     "text": [
      "100%|████████████████████████████████████████████████████████████████████████████████| 147/147 [10:53<00:00,  4.45s/it]\n"
     ]
    },
    {
     "name": "stdout",
     "output_type": "stream",
     "text": [
      "[Training | 021/025] loss = 0.36060, acc = 0.87646\n"
     ]
    },
    {
     "name": "stderr",
     "output_type": "stream",
     "text": [
      "100%|████████████████████████████████████████████████████████████████████████████████████| 6/6 [00:12<00:00,  2.03s/it]\n"
     ]
    },
    {
     "name": "stdout",
     "output_type": "stream",
     "text": [
      "[Validation | 021/025] loss = 1.92784, acc = 0.40990\n"
     ]
    },
    {
     "name": "stderr",
     "output_type": "stream",
     "text": [
      "100%|████████████████████████████████████████████████████████████████████████████████| 147/147 [10:54<00:00,  4.45s/it]\n"
     ]
    },
    {
     "name": "stdout",
     "output_type": "stream",
     "text": [
      "[Training | 022/025] loss = 0.33797, acc = 0.88650\n"
     ]
    },
    {
     "name": "stderr",
     "output_type": "stream",
     "text": [
      "100%|████████████████████████████████████████████████████████████████████████████████████| 6/6 [00:12<00:00,  2.01s/it]\n"
     ]
    },
    {
     "name": "stdout",
     "output_type": "stream",
     "text": [
      "[Validation | 022/025] loss = 2.88228, acc = 0.31458\n"
     ]
    },
    {
     "name": "stderr",
     "output_type": "stream",
     "text": [
      "100%|████████████████████████████████████████████████████████████████████████████████| 147/147 [10:55<00:00,  4.46s/it]\n"
     ]
    },
    {
     "name": "stdout",
     "output_type": "stream",
     "text": [
      "[Training | 023/025] loss = 0.31271, acc = 0.89514\n"
     ]
    },
    {
     "name": "stderr",
     "output_type": "stream",
     "text": [
      "100%|████████████████████████████████████████████████████████████████████████████████████| 6/6 [00:12<00:00,  2.03s/it]\n"
     ]
    },
    {
     "name": "stdout",
     "output_type": "stream",
     "text": [
      "[Validation | 023/025] loss = 2.20901, acc = 0.39974\n"
     ]
    },
    {
     "name": "stderr",
     "output_type": "stream",
     "text": [
      "100%|████████████████████████████████████████████████████████████████████████████████| 147/147 [11:03<00:00,  4.51s/it]\n"
     ]
    },
    {
     "name": "stdout",
     "output_type": "stream",
     "text": [
      "[Training | 024/025] loss = 0.28285, acc = 0.90495\n"
     ]
    },
    {
     "name": "stderr",
     "output_type": "stream",
     "text": [
      "100%|████████████████████████████████████████████████████████████████████████████████████| 6/6 [00:12<00:00,  2.07s/it]\n"
     ]
    },
    {
     "name": "stdout",
     "output_type": "stream",
     "text": [
      "[Validation | 024/025] loss = 2.33234, acc = 0.41458\n"
     ]
    },
    {
     "name": "stderr",
     "output_type": "stream",
     "text": [
      "100%|████████████████████████████████████████████████████████████████████████████████| 147/147 [10:57<00:00,  4.47s/it]\n"
     ]
    },
    {
     "name": "stdout",
     "output_type": "stream",
     "text": [
      "[Training | 025/025] loss = 0.26964, acc = 0.90736\n"
     ]
    },
    {
     "name": "stderr",
     "output_type": "stream",
     "text": [
      "100%|████████████████████████████████████████████████████████████████████████████████████| 6/6 [00:12<00:00,  2.06s/it]"
     ]
    },
    {
     "name": "stdout",
     "output_type": "stream",
     "text": [
      "[Validation | 025/025] loss = 2.76603, acc = 0.34818\n"
     ]
    },
    {
     "name": "stderr",
     "output_type": "stream",
     "text": [
      "\n"
     ]
    }
   ],
   "source": [
    "# 'cuda' ony when GPUs are available.\n",
    "device = 'cuda' if torch.cuda.is_available() else 'cpu'\n",
    "\n",
    "# Initialize a model, and put it on the device specified.\n",
    "model = Classifier().to(device)\n",
    "model.device = device\n",
    "\n",
    "# For the classification task, we use cross-entropy as the measurement of performance.\n",
    "criterion = nn.CrossEntropyLoss()\n",
    "\n",
    "# Initialize optimizer, you may fine-tune some hyperparameters such as learning rate on your own.\n",
    "optimizer = torch.optim.Adam(model.parameters(), lr= 0.0003, weight_decay=1e-5)\n",
    "\n",
    "# The number of training epochs\n",
    "# N_EPOCHS = 80\n",
    "N_EPOCHS = 25\n",
    "\n",
    "# Whether to do semi-supervised learning.\n",
    "do_semi = False\n",
    "\n",
    "loss_record = {'train': [], 'validate': []}\n",
    "acc_record = {'train': [], 'validate': []}\n",
    "\n",
    "for epoch in range(N_EPOCHS):\n",
    "    # In each epoch, relabel the unlabeled dataset for semi-supervised learning.   \n",
    "    # Then, you can combine the labeled dataset and pseudo-labeled dataset for the training.\n",
    "    if do_semi:\n",
    "        # Obtain pseudo-labels for unlabeled data using trained model.\n",
    "        pseudo_set, remainder_data_index = get_pseudo_labels(unlabeled_set, model, threshold=0.8)\n",
    "        # update unlabeled_set\n",
    "        unlabeled_set = Subset(unlabeled_set, remainder_data_index)\n",
    "        print(f'[Train | {epoch + 1:03d}/{N_EPOCHS:03d}] Length of unlabeled_set:{len(unlabeled_set):03d}')\n",
    "        \n",
    "        # Construct a new dataset and a data loader for training\n",
    "        # This is used in semi-supervised learning only.\n",
    "        # Construct the new train_set\n",
    "        train_set = ConcatDataset([train_set, pseudo_set])\n",
    "        print(f'[Train | {epoch + 1:03d}/{N_EPOCHS:03d}] Length of new train_set:{len(train_set):03d}')\n",
    "        train_loader = DataLoader(train_set, batch_size=BATCH_SIZE, shuffle=True, num_workers=0, pin_memory=True)\n",
    "\n",
    "    # -------------------------------------------------Training-------------------------------------------------------\n",
    "    # Make sure the model is in training mode before training.\n",
    "    model.train()\n",
    "    \n",
    "    # These are used to record information in training.\n",
    "    training_loss = []\n",
    "    training_acc = []\n",
    "    \n",
    "    # Iterate the training set by batches.\n",
    "    for batch in tqdm(train_loader):\n",
    "        # A batch consists of image data and corresponding labels.\n",
    "        imgs, labels = batch\n",
    "        \n",
    "        # Forward the data. (Make sure data and model are on the same device.)\n",
    "        logits = model(imgs.to(device))\n",
    "        \n",
    "        # Calculate the cross-entropy loss.\n",
    "        # We do not need to apply softmax before computing cross-entropy as it is done automatically.\n",
    "        loss = criterion(logits, labels.to(device))\n",
    "        \n",
    "        # Gradients stored in the parameters in the previous step should be cleared out first.\n",
    "        optimizer.zero_grad()\n",
    "        \n",
    "        # Compute the gradients for parameters.\n",
    "        loss.backward()\n",
    "        \n",
    "        # Clip the gradient norms for stable training.\n",
    "        # nn.utils.clip_grad_norm_只解决梯度爆炸问题，不解决梯度消失问题\n",
    "        grad_norm = nn.utils.clip_grad_norm_(model.parameters(), max_norm=10)\n",
    "        \n",
    "        # Update the parameters with computed gradients.\n",
    "        optimizer.step()\n",
    "        \n",
    "        # Computer the accuracy for current batch.\n",
    "        acc = (logits.argmax(dim=-1) == labels.to(device)).float().mean()\n",
    "        \n",
    "        # Record the loss and accuracy.\n",
    "        training_loss.append(loss.item())\n",
    "        training_acc.append(acc)\n",
    "        \n",
    "    # The average loss and accuracy of the training set is the average of the recorded values.\n",
    "    training_loss = sum(training_loss) / len(training_loss)\n",
    "    training_acc = sum(training_acc) / len(training_acc)\n",
    "    \n",
    "    loss_record['train'].append(training_loss)\n",
    "    acc_record['train'].append(training_acc)\n",
    "    \n",
    "    # Print the information\n",
    "    print(f'[Training | {epoch + 1:03d}/{N_EPOCHS:03d}] loss = {training_loss:.5f}, acc = {training_acc:.5f}')\n",
    "    \n",
    "    # -------------------------------------------------Validation-------------------------------------------------------\n",
    "    # Make sure the model is in eval mode so that some modules like dropout are disabled and work normally.\n",
    "    model.eval()\n",
    "    \n",
    "    # These are used to record information in validation.\n",
    "    validation_loss = []\n",
    "    validation_acc = []\n",
    "    \n",
    "    # Iterate the validation set by batches.\n",
    "    for batch in tqdm(valid_loader):\n",
    "        # A batch consists of image data and coresponding labels.\n",
    "        imgs, labels = batch\n",
    "        \n",
    "        # We do not need gradient in validation.\n",
    "        # Using torch.no_grad() accelerates the forward process.\n",
    "        with torch.no_grad():\n",
    "            logits = model(imgs.to(device))\n",
    "        \n",
    "        # We can still compute the loss but not the gradient.\n",
    "        loss = criterion(logits, labels.to(device))\n",
    "        \n",
    "        # Compuete the accuracy for current batch\n",
    "        acc = (logits.argmax(dim=-1) == labels.to(device)).float().mean()\n",
    "        \n",
    "        # Record the loss and accuracy.\n",
    "        validation_loss.append(loss.item())\n",
    "        validation_acc.append(acc)\n",
    "        \n",
    "    # The average loss and accuracy for entire validation set is the average of the recorded values.\n",
    "    validation_loss = sum(validation_loss) / len(validation_loss)\n",
    "    validation_acc = sum(validation_acc) / len(validation_acc)\n",
    "    \n",
    "    loss_record['validate'].append(validation_loss)\n",
    "    acc_record['validate'].append(validation_acc)\n",
    "\n",
    "    # Print the information.\n",
    "    print(f'[Validation | {epoch + 1:03d}/{N_EPOCHS:03d}] loss = {validation_loss:.5f}, acc = {validation_acc:.5f}')\n",
    "    \n",
    "    # update do_semi strategy at the end of current epoch\n",
    "    # Suggest that it might get better via semi-supervised learning once the validation accuracy reaches higher (over 0.7) after training.\n",
    "    if validation_acc > 0.6:\n",
    "        do_semi = True\n",
    "    else:\n",
    "        do_semi = False"
   ]
  },
  {
   "cell_type": "code",
   "execution_count": 12,
   "id": "a73d822e",
   "metadata": {},
   "outputs": [],
   "source": [
    "import matplotlib.pyplot as plt\n",
    "from matplotlib.pyplot import figure\n",
    "\n",
    "def plot_loss_curve(loss_record, title=''):\n",
    "    '''\n",
    "    Plot learning loss curve (training and validation loss).\n",
    "    '''\n",
    "    total_steps = len(loss_record['train'])\n",
    "    # each epoch\n",
    "    x = np.arange(total_steps)\n",
    "   \n",
    "    figure(figsize=(10, 8))\n",
    "    # T10调色盘适用于离散分类，颜色名称以'tab:'为前缀\n",
    "    plt.plot(x, loss_record['train'], c='tab:red', label='training')\n",
    "    plt.plot(x, loss_record['validate'], c='tab:cyan', label='validation')\n",
    "    plt.xlim(-2, 26)\n",
    "    plt.ylim(0., 5.)\n",
    "    plt.xticks(np.arange(0, 26, 5))\n",
    "    plt.yticks(np.arange(0., 6., 1))\n",
    "    plt.xlabel('Training step/Epoch')\n",
    "    plt.ylabel('CrossEntropy loss')\n",
    "    plt.title('Learning loss curve of {}'.format(title))\n",
    "    plt.legend()\n",
    "    plt.show()\n",
    "    \n",
    "def plot_acc_curve(acc_record, title=''):\n",
    "    '''\n",
    "    Plot learning accuracy curve (training and validation accuracy).\n",
    "    '''\n",
    "    total_steps = len(acc_record['train'])\n",
    "    # each epoch\n",
    "    x = np.arange(total_steps)\n",
    "   \n",
    "    figure(figsize=(10, 8))\n",
    "    # T10调色盘适用于离散分类，颜色名称以'tab:'为前缀\n",
    "    plt.plot(x, acc_record['train'], c='tab:red', label='training')\n",
    "    plt.plot(x, acc_record['validate'], c='tab:cyan', label='validation')\n",
    "    plt.xlim(-2, 26)\n",
    "    plt.ylim(0., 1.2)\n",
    "    plt.xticks(np.arange(0, 26, 5))\n",
    "    plt.yticks(np.arange(0., 1.2, 0.2))\n",
    "    plt.xlabel('Training step/Epoch')\n",
    "    plt.ylabel('Accuracy')\n",
    "    plt.title('Learning accuracy curve of {}'.format(title))\n",
    "    plt.legend()\n",
    "    plt.show() "
   ]
  },
  {
   "cell_type": "code",
   "execution_count": 13,
   "id": "143cb9fc",
   "metadata": {},
   "outputs": [
    {
     "data": {
      "image/png": "[encoded data removed]",
      "text/plain": [
       "<Figure size 720x576 with 1 Axes>"
      ]
     },
     "metadata": {
      "needs_background": "light"
     },
     "output_type": "display_data"
    }
   ],
   "source": [
    "# Show loss variation on training set and validation set during training.\n",
    "plot_loss_curve(loss_record, title='Food classification')"
   ]
  },
  {
   "cell_type": "code",
   "execution_count": 14,
   "id": "9ec436bf",
   "metadata": {},
   "outputs": [
    {
     "data": {
      "image/png": "[encoded data removed]",
      "text/plain": [
       "<Figure size 720x576 with 1 Axes>"
      ]
     },
     "metadata": {
      "needs_background": "light"
     },
     "output_type": "display_data"
    }
   ],
   "source": [
    "# Show accuracy variation on training set and validation set during training.\n",
    "plot_acc_curve(acc_record, title='Food classification')"
   ]
  },
  {
   "cell_type": "markdown",
   "id": "8ee00e0a",
   "metadata": {},
   "source": [
    "### Testing\n",
    "\n",
    "For instance, we need to make sure the model is in eval mode, and the order of the dataset should NOT be shuffled ('shuffle=False' in test_loader).\n",
    "\n",
    "Last but not least, do not forget to save the predictions into a single CSV file. The format of CSV file should follow the rules mentioned in the slides.\n",
    "\n",
    "### WARNING -- Keep in Mind\n",
    "\n",
    "Cheating includes but not limited to:\n",
    "\n",
    "1. Using testing labels\n",
    "2. Submitting results to previous Kaggle competitions\n",
    "3. Sharing predictions with others\n",
    "4. Copying codes from any creatures on Earth\n",
    "\n",
    "Any violations bring you punishments from getting a discount on the final grade to failing the course.\n",
    "\n",
    "It is your responsibility to check whether your code violates the rules. When citing codes from the Internet, you should know what these codes exactly do. You will **NOT** be tolerated if you break the rule and claim you do not know these codes do."
   ]
  },
  {
   "cell_type": "code",
   "execution_count": 15,
   "id": "094aa71f",
   "metadata": {},
   "outputs": [
    {
     "name": "stderr",
     "output_type": "stream",
     "text": [
      "100%|██████████████████████████████████████████████████████████████████████████████████| 27/27 [00:57<00:00,  2.13s/it]\n"
     ]
    }
   ],
   "source": [
    "# Make sure the model is in eval mode.\n",
    "# Some modules like Dropout or BatchNorm affect if the model is in training mode.\n",
    "model.eval()\n",
    "\n",
    "# Initalize a list to store the predictions.\n",
    "predictions = []\n",
    "\n",
    "# Iterate the testing set by batches.\n",
    "for batch in tqdm(test_loader):\n",
    "    # A batch consists of image data and corresponding labels.\n",
    "    # But here the variable 'labels' is useless since we do not have the ground-truth.\n",
    "    # If printing out the labels, you will find that it is always 0.\n",
    "    # This is because the wrapper (DatasetFolder) returns images and labels for each batch,\n",
    "    # so we have to create fake labels to make it work normally.\n",
    "    imgs, labels = batch\n",
    "    \n",
    "    # We do not need gradient in testing, and we do not even have labels to compute loss.\n",
    "    # Using torch.no_grad() to accelerate the forward process.\n",
    "    with torch.no_grad():\n",
    "        logits = model(imgs.to(device))\n",
    "    \n",
    "    # Take the class with greatest logit as prediction and record it.\n",
    "    predictions.extend(logits.argmax(dim=-1).cpu().numpy().tolist())"
   ]
  },
  {
   "cell_type": "code",
   "execution_count": 17,
   "id": "18d981e8",
   "metadata": {},
   "outputs": [],
   "source": [
    "# Save predictions into the file.\n",
    "with open('prediction.csv', 'w') as fd:\n",
    "    # The first row must be 'Id, Category'\n",
    "    fd.write('Id,Category\\n')\n",
    "    \n",
    "    # For the rest of the rows, each image id corresponds to a predicted class.\n",
    "    for i, pred in enumerate(predictions):\n",
    "        fd.write(f'{i}, {pred}\\n')"
   ]
  },
  {
   "cell_type": "markdown",
   "id": "e339ea5c",
   "metadata": {},
   "source": [
    "## Reference\n",
    "\n",
    "Original source: https://github.com/ga642381/ML2021-Spring/blob/main/HW03/HW03.ipynb"
   ]
  }
 ],
 "metadata": {
  "kernelspec": {
   "display_name": "Python [conda env:test] *",
   "language": "python",
   "name": "conda-env-test-py"
  },
  "language_info": {
   "codemirror_mode": {
    "name": "ipython",
    "version": 3
   },
   "file_extension": ".py",
   "mimetype": "text/x-python",
   "name": "python",
   "nbconvert_exporter": "python",
   "pygments_lexer": "ipython3",
   "version": "3.9.7"
  }
 },
 "nbformat": 4,
 "nbformat_minor": 5
}
