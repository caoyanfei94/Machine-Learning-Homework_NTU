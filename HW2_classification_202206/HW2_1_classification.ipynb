{
 "cells": [
  {
   "cell_type": "markdown",
   "id": "2bb29552",
   "metadata": {},
   "source": [
    "# Homework 2-1: Phoneme Classification (Multiclass Classification)\n",
    "\n",
    "Author: Cao Yanfei"
   ]
  },
  {
   "cell_type": "markdown",
   "id": "4909afb7",
   "metadata": {},
   "source": [
    "## The DARPA TIMIT Acoustic-Phonetic Continuous Speech Corpus (TIMIT)\n",
    "The TIMIT corpus of reading speech has been designed to provide speech data for the acquisition of acoustic-phonetic knowledge and for the development and evaluation of automatic speech recognition systems.\n",
    "\n",
    "This homework is a multiclass classification task. We are going to train a deep neural network classifier to predict the phonemes for each frame from the speech corpus TIMIT.\n",
    "\n",
    "link: https://academictorrents.com/details/34e2b78745138186976cbc27939b1b34d18bd5b3"
   ]
  },
  {
   "cell_type": "markdown",
   "id": "9c685242",
   "metadata": {},
   "source": [
    "## Download Data\n",
    "\n",
    "Download data from google drive, then upzip it.\n",
    "\n",
    "You should have `timit_11/train_11.npy`, `timit_11/train_label_11.npy`, and `timit_11/test_11.npy` after running this block.<br><br>\n",
    "`timit_11/`\n",
    "- `train_11.npy`: training data<br>\n",
    "- `train_label_11.npy`: training label<br>\n",
    "- `test_11.npy`:  testing data<br><br>\n",
    "\n",
    "**Notes: if the google drive link is dead, you can download the data directly from Kaggle and upload it to the workspace.**"
   ]
  },
  {
   "cell_type": "code",
   "execution_count": 1,
   "id": "f44c97ab",
   "metadata": {},
   "outputs": [],
   "source": [
    "# !gdown --id '1HPkcmQmFGu-3OknddKIa5dNDsR05lIQR' --output data.zip\n",
    "# !unzip data.zip\n",
    "# !ls"
   ]
  },
  {
   "cell_type": "markdown",
   "id": "e472ab45",
   "metadata": {},
   "source": [
    "## Preparing Data\n",
    "\n",
    "Load the training and testing data from the `.npy` file (Numpy array)."
   ]
  },
  {
   "cell_type": "code",
   "execution_count": 2,
   "id": "3688e6dc",
   "metadata": {},
   "outputs": [
    {
     "name": "stdout",
     "output_type": "stream",
     "text": [
      "Loading data...\n",
      "Size of training data: (1229932, 429)\n",
      "Size of testing data: (451552, 429)\n"
     ]
    }
   ],
   "source": [
    "import numpy as np\n",
    "import matplotlib.pyplot as plt\n",
    "from matplotlib.pyplot import figure\n",
    "print('Loading data...')\n",
    "\n",
    "data_root = './dataset/timit_11/'\n",
    "train_data = np.load(data_root + 'train_11.npy')\n",
    "train_label_data = np.load(data_root + 'train_label_11.npy')\n",
    "test_data = np.load(data_root + 'test_11.npy')\n",
    "\n",
    "print('Size of training data: {}'.format(train_data.shape))\n",
    "print('Size of testing data: {}'.format(test_data.shape))"
   ]
  },
  {
   "cell_type": "markdown",
   "id": "42623f21",
   "metadata": {},
   "source": [
    "## Utilities"
   ]
  },
  {
   "cell_type": "code",
   "execution_count": 3,
   "id": "0d62a108",
   "metadata": {},
   "outputs": [],
   "source": [
    "def get_device():\n",
    "    '''\n",
    "    Check device.\n",
    "    '''\n",
    "    return 'cuda' if torch.cuda.is_available() else 'cpu'\n",
    "\n",
    "def same_seeds(seed):\n",
    "    '''\n",
    "    Fix random seeds.\n",
    "    '''\n",
    "    torch.manual_seed(seed)\n",
    "    if torch.cuda.is_available():\n",
    "        torch.cuda.manual_seed(seed)\n",
    "        torch.cuda.manual_seed_all(seed)\n",
    "    np.random.seed(seed)\n",
    "    torch.backends.cudnn.benchmark = False\n",
    "    torch.backends.cudnn.deterministic = True\n",
    "\n",
    "def plot_loss_curve(loss_record, title=''):\n",
    "    '''\n",
    "    Plot DNN learning curve (training and validation loss).\n",
    "    '''\n",
    "    total_steps = len(loss_record['train'])\n",
    "    # each batch size\n",
    "    x1 = np.arange(total_steps)\n",
    "    # each epoch\n",
    "    x2 = x1[:: len(loss_record['train']) // len(loss_record['validate'])]\n",
    "    \n",
    "    figure(figsize=(10, 8))\n",
    "    # T10调色盘适用于离散分类，颜色名称以'tab:'为前缀\n",
    "    plt.plot(x1, loss_record['train'], c='tab:red', label='training')\n",
    "    plt.plot(x2, loss_record['validate'], c='tab:cyan', label='validation')\n",
    "    plt.xlim(-500, 310000)\n",
    "    plt.ylim(0., 5.)\n",
    "    plt.xticks(np.arange(0, 310000, 50000))\n",
    "    plt.yticks(np.arange(0., 6., 0.5))\n",
    "    plt.xlabel('Training step/batch')\n",
    "    plt.ylabel('Loss for one batch')\n",
    "    plt.title('Learning curve of {}'.format(title))\n",
    "    plt.legend()\n",
    "    plt.show()\n",
    "\n",
    "def plot_pred_curve_on_valiset(val_loader, model, device):\n",
    "    '''\n",
    "    Plot DNN prediction.\n",
    "    '''\n",
    "    model.eval()\n",
    "    \n",
    "    preds, targets = [], []\n",
    "    for i, data in enumerate(val_loader):\n",
    "        inputs, labels = data\n",
    "        inputs, labels = inputs.to(device), labels.to(device)\n",
    "        with torch.no_grad():\n",
    "            outputs = model(inputs)\n",
    "            _, pred = torch.max(outputs, 1)\n",
    "            preds.append(pred.detach().cpu())\n",
    "            targets.append(labels.detach().cpu())\n",
    "    preds = torch.cat(preds, dim=0).numpy()\n",
    "    targets = torch.cat(targets, dim=0).numpy()\n",
    "    \n",
    "    figure(figsize=(8, 8))\n",
    "    plt.scatter(targets, preds, c='tab:red', alpha=0.002)\n",
    "    plt.plot([0, 40], [0, 40], c='tab:cyan')\n",
    "    plt.xlim(0, 40)\n",
    "    plt.ylim(0, 40)\n",
    "    plt.xlabel('ground truth value')\n",
    "    plt.ylabel('predicted value')\n",
    "    plt.title('Ground truth v.s. prediction on validation set')\n",
    "    plt.show()"
   ]
  },
  {
   "cell_type": "markdown",
   "id": "8a452826",
   "metadata": {},
   "source": [
    "## Create Dataset"
   ]
  },
  {
   "cell_type": "code",
   "execution_count": 4,
   "id": "c838f133",
   "metadata": {},
   "outputs": [
    {
     "name": "stderr",
     "output_type": "stream",
     "text": [
      "D:\\software\\Anaconda3\\installation\\envs\\test\\lib\\site-packages\\tqdm\\auto.py:22: TqdmWarning: IProgress not found. Please update jupyter and ipywidgets. See https://ipywidgets.readthedocs.io/en/stable/user_install.html\n",
      "  from .autonotebook import tqdm as notebook_tqdm\n"
     ]
    }
   ],
   "source": [
    "import torch\n",
    "from torch.utils.data import Dataset"
   ]
  },
  {
   "cell_type": "code",
   "execution_count": 5,
   "id": "e442034a",
   "metadata": {},
   "outputs": [],
   "source": [
    "class TIMITDataset(Dataset):\n",
    "    def __init__(self, X, y=None):\n",
    "        # torch.from_numpy() transfroms a numpy array into a tensor (shared memory!)\n",
    "        # torch.Tensor() transfroms a numpy array into a tensor (no shared memory!)\n",
    "        self.data = torch.from_numpy(X).float()\n",
    "        if y is not None:\n",
    "            y = y.astype(np.int)\n",
    "            self.label = torch.LongTensor(y)\n",
    "        else:\n",
    "            self.label = None\n",
    "          \n",
    "    def __getitem__(self, index):\n",
    "        if self.label is not None:\n",
    "            return self.data[index], self.label[index]\n",
    "        else:\n",
    "            return self.data[index]\n",
    "        \n",
    "    def __len__(self):\n",
    "        return len(self.data)"
   ]
  },
  {
   "cell_type": "markdown",
   "id": "6bf38e5d",
   "metadata": {},
   "source": [
    "Split the labeled data into a training set and a validation set, you can modify the variable `VAL_RATIO` to change the ratio of validation data."
   ]
  },
  {
   "cell_type": "code",
   "execution_count": 6,
   "id": "6aa4356d",
   "metadata": {},
   "outputs": [
    {
     "name": "stdout",
     "output_type": "stream",
     "text": [
      "Size of training set: (983945, 429)\n",
      "Size of validation set: (245987, 429)\n"
     ]
    }
   ],
   "source": [
    "VAL_RATIO = 0.2\n",
    "\n",
    "percent = int(train_data.shape[0] * (1 - VAL_RATIO))\n",
    "train_x, train_y, val_x, val_y = train_data[: percent], train_label_data[: percent], train_data[percent:], train_label_data[percent:]\n",
    "print('Size of training set: {}'.format(train_x.shape))\n",
    "print('Size of validation set: {}'.format(val_x.shape))"
   ]
  },
  {
   "cell_type": "markdown",
   "id": "641726a7",
   "metadata": {},
   "source": [
    "Create a data loader from the dataset, feel free to tweak the variable `BATCH_SIZE` here."
   ]
  },
  {
   "cell_type": "code",
   "execution_count": 7,
   "id": "e3df03e2",
   "metadata": {},
   "outputs": [
    {
     "name": "stderr",
     "output_type": "stream",
     "text": [
      "C:\\Users\\caoya\\AppData\\Local\\Temp/ipykernel_3852/1286471917.py:7: DeprecationWarning: `np.int` is a deprecated alias for the builtin `int`. To silence this warning, use `int` by itself. Doing this will not modify any behavior and is safe. When replacing `np.int`, you may wish to use e.g. `np.int64` or `np.int32` to specify the precision. If you wish to review your current use, check the release note link for additional information.\n",
      "Deprecated in NumPy 1.20; for more details and guidance: https://numpy.org/devdocs/release/1.20.0-notes.html#deprecations\n",
      "  y = y.astype(np.int)\n"
     ]
    }
   ],
   "source": [
    "BATCH_SIZE = 64\n",
    "\n",
    "from torch.utils.data import DataLoader\n",
    "\n",
    "train_set = TIMITDataset(train_x, train_y)\n",
    "val_set = TIMITDataset(val_x, val_y)\n",
    "train_loader = DataLoader(train_set, batch_size=BATCH_SIZE, shuffle=True)     # Only shuffle the training data\n",
    "val_loader = DataLoader(val_set, batch_size=BATCH_SIZE, shuffle=False)"
   ]
  },
  {
   "cell_type": "markdown",
   "id": "9cb4226f",
   "metadata": {},
   "source": [
    "Clean up the unneeded variables to save memory.\n",
    "\n",
    "**Notes: if you need to use these variables later, then you may remove this block or clean up unneeded variables later.\n",
    "The data size is quite huge, so be aware of memory usage in colab.**"
   ]
  },
  {
   "cell_type": "code",
   "execution_count": 8,
   "id": "29ee93ca",
   "metadata": {},
   "outputs": [
    {
     "data": {
      "text/plain": [
       "0"
      ]
     },
     "execution_count": 8,
     "metadata": {},
     "output_type": "execute_result"
    }
   ],
   "source": [
    "import gc\n",
    "\n",
    "del train_data, train_label_data, train_x, train_y, val_x, val_y\n",
    "gc.collect()"
   ]
  },
  {
   "cell_type": "markdown",
   "id": "2e055714",
   "metadata": {},
   "source": [
    "## Create Model\n",
    "\n",
    "Define model architecture, you are encouraged to change and experiment with the model architecture."
   ]
  },
  {
   "cell_type": "code",
   "execution_count": 9,
   "id": "c7b307d2",
   "metadata": {},
   "outputs": [],
   "source": [
    "import torch\n",
    "import torch.nn as nn"
   ]
  },
  {
   "cell_type": "code",
   "execution_count": 10,
   "id": "3ab71955",
   "metadata": {},
   "outputs": [],
   "source": [
    "class Classifier(nn.Module):\n",
    "    def __init__(self):\n",
    "        super(Classifier, self).__init__()\n",
    "        \n",
    "        self.layer1 = nn.Linear(429, 1024)\n",
    "        self.layer2 = nn.Linear(1024, 512)\n",
    "        self.layer3 = nn.Linear(512, 128)\n",
    "        self.out = nn.Linear(128, 39)\n",
    "        \n",
    "        self.act_fn = nn.Sigmoid()\n",
    "        \n",
    "    def forward(self, x):\n",
    "        x = self.layer1(x)\n",
    "        x = self.act_fn(x)\n",
    "        \n",
    "        x = self.layer2(x)\n",
    "        x = self.act_fn(x)\n",
    "        \n",
    "        x = self.layer3(x)\n",
    "        x = self.act_fn(x)\n",
    "        \n",
    "        x = self.out(x)\n",
    "        return x"
   ]
  },
  {
   "cell_type": "markdown",
   "id": "099c881d",
   "metadata": {},
   "source": [
    "## Training"
   ]
  },
  {
   "cell_type": "markdown",
   "id": "a3a30bad",
   "metadata": {},
   "source": [
    "Feel free to change the training parameters here."
   ]
  },
  {
   "cell_type": "code",
   "execution_count": 11,
   "id": "83c59e41",
   "metadata": {},
   "outputs": [
    {
     "name": "stdout",
     "output_type": "stream",
     "text": [
      "Device type: cpu\n"
     ]
    }
   ],
   "source": [
    "# Fix random seed for reproducibility.\n",
    "same_seeds(0)\n",
    "\n",
    "# Get device\n",
    "device = get_device()\n",
    "print(f'Device type: {device}')\n",
    "\n",
    "# Training parameters\n",
    "EPOCH_NUM = 20                    # number of training epoch\n",
    "LEARNING_RATE = 0.0001            # learning rate\n",
    "\n",
    "# The path where checkpoint saved\n",
    "model_path = './model.ckpt'\n",
    "\n",
    "# Create model, define a loss function and a optimizer\n",
    "model = Classifier().to(device)\n",
    "criterion = nn.CrossEntropyLoss().to(device)\n",
    "optimizer = torch.optim.Adam(model.parameters(), lr=LEARNING_RATE)"
   ]
  },
  {
   "cell_type": "code",
   "execution_count": 12,
   "id": "b712c9a7",
   "metadata": {},
   "outputs": [
    {
     "name": "stdout",
     "output_type": "stream",
     "text": [
      "Epoch: 001/020, training accuracy: 0.467302, training loss: 1.811661, validation accuracy:  0.567428, validation loss: 1.433065\n",
      "Saved model with acc: 0.567\n",
      "Epoch: 002/020, training accuracy: 0.594383, training loss: 1.330666, validation accuracy:  0.628639, validation loss: 1.211098\n",
      "Saved model with acc: 0.629\n",
      "Epoch: 003/020, training accuracy: 0.644506, training loss: 1.154064, validation accuracy:  0.660421, validation loss: 1.101216\n",
      "Saved model with acc: 0.660\n",
      "Epoch: 004/020, training accuracy: 0.672216, training loss: 1.052246, validation accuracy:  0.676300, validation loss: 1.038718\n",
      "Saved model with acc: 0.676\n",
      "Epoch: 005/020, training accuracy: 0.691347, training loss: 0.983104, validation accuracy:  0.685154, validation loss: 1.001852\n",
      "Saved model with acc: 0.685\n",
      "Epoch: 006/020, training accuracy: 0.705616, training loss: 0.931955, validation accuracy:  0.689301, validation loss: 0.984177\n",
      "Saved model with acc: 0.689\n",
      "Epoch: 007/020, training accuracy: 0.716344, training loss: 0.891687, validation accuracy:  0.694516, validation loss: 0.964627\n",
      "Saved model with acc: 0.695\n",
      "Epoch: 008/020, training accuracy: 0.725881, training loss: 0.857907, validation accuracy:  0.697720, validation loss: 0.951889\n",
      "Saved model with acc: 0.698\n",
      "Epoch: 009/020, training accuracy: 0.733717, training loss: 0.829495, validation accuracy:  0.696687, validation loss: 0.949866\n",
      "Epoch: 010/020, training accuracy: 0.741151, training loss: 0.803701, validation accuracy:  0.699382, validation loss: 0.944832\n",
      "Saved model with acc: 0.699\n",
      "Epoch: 011/020, training accuracy: 0.748050, training loss: 0.781106, validation accuracy:  0.697773, validation loss: 0.946494\n",
      "Epoch: 012/020, training accuracy: 0.753793, training loss: 0.760380, validation accuracy:  0.702830, validation loss: 0.938236\n",
      "Saved model with acc: 0.703\n",
      "Epoch: 013/020, training accuracy: 0.759404, training loss: 0.741234, validation accuracy:  0.700456, validation loss: 0.945627\n",
      "Epoch: 014/020, training accuracy: 0.764573, training loss: 0.723574, validation accuracy:  0.702155, validation loss: 0.942118\n",
      "Epoch: 015/020, training accuracy: 0.769472, training loss: 0.707325, validation accuracy:  0.704427, validation loss: 0.936154\n",
      "Saved model with acc: 0.704\n",
      "Epoch: 016/020, training accuracy: 0.773689, training loss: 0.691314, validation accuracy:  0.701732, validation loss: 0.945713\n",
      "Epoch: 017/020, training accuracy: 0.778677, training loss: 0.676633, validation accuracy:  0.701586, validation loss: 0.953081\n",
      "Epoch: 018/020, training accuracy: 0.783106, training loss: 0.662425, validation accuracy:  0.699667, validation loss: 0.963290\n",
      "Epoch: 019/020, training accuracy: 0.786396, training loss: 0.649180, validation accuracy:  0.700082, validation loss: 0.957681\n",
      "Epoch: 020/020, training accuracy: 0.790644, training loss: 0.636623, validation accuracy:  0.699736, validation loss: 0.964269\n"
     ]
    }
   ],
   "source": [
    "# Start training\n",
    "best_acc = 0.0\n",
    "loss_record = {'train': [], 'validate': []}\n",
    "\n",
    "for epoch in range(EPOCH_NUM):\n",
    "    train_acc = 0.0\n",
    "    train_loss = 0.0\n",
    "    val_acc = 0.0\n",
    "    val_loss = 0.0\n",
    "    \n",
    "    # Training\n",
    "    model.train()                                   # Set the model into training mode\n",
    "    for i, data in enumerate(train_loader):        # Harness 'enumerate' to obtain the index and value of an iterable object.\n",
    "        inputs, labels = data\n",
    "        inputs, labels = inputs.to(device), labels.to(device)\n",
    "        optimizer.zero_grad()\n",
    "        \n",
    "        outputs = model(inputs)\n",
    "        batch_loss = criterion(outputs, labels)\n",
    "        _, train_pred = torch.max(outputs, 1)       # Get the index of the class with the highest probability in each row, train_pred is a tensor\n",
    "        batch_loss.backward()\n",
    "        optimizer.step()\n",
    "        \n",
    "        train_acc += (train_pred.cpu() == labels.cpu()).sum().item()        # Torch.item(): obtain the value of a tensor with only one element\n",
    "        train_loss += batch_loss.item()\n",
    "        \n",
    "        loss_record['train'].append(batch_loss.detach().cpu().item())\n",
    "    \n",
    "    # Validation\n",
    "    # Evaluate model accuracy and loss on validation set, if they are imrpoved, save this model\n",
    "    if len(val_set) > 0:\n",
    "        # Set the model to evaluation mode\n",
    "        model.eval()\n",
    "        with torch.no_grad():\n",
    "            for i, data in enumerate(val_loader):\n",
    "                inputs, labels = data\n",
    "                inputs, labels = inputs.to(device), labels.to(device)\n",
    "                outputs = model(inputs)\n",
    "                batch_loss = criterion(outputs, labels)\n",
    "                _, val_pred = torch.max(outputs, 1)\n",
    "                \n",
    "                val_acc += (val_pred.cpu() == labels.cpu()).sum().item()\n",
    "                val_loss += batch_loss.item()\n",
    "                \n",
    "            print('Epoch: {:03d}/{:03d}, training accuracy: {:3.6f}, training loss: {:3.6f}, '\\\n",
    "                  'validation accuracy:  {:3.6f}, validation loss: {:3.6f}'.format(\n",
    "                  epoch + 1, EPOCH_NUM, train_acc / len(train_set), train_loss / len(train_loader), \n",
    "                  val_acc / len(val_set), val_loss / len(val_loader)))\n",
    "            \n",
    "            # Record validation loss of average batch for each epoch\n",
    "            loss_record['validate'].append(val_loss / len(val_loader))\n",
    "            \n",
    "            # If the model improves, save a checkpoint at this epoch\n",
    "            if val_acc > best_acc:\n",
    "                best_acc = val_acc\n",
    "                torch.save(model.state_dict(), model_path)\n",
    "                print('Saved model with acc: {:.3f}'.format(best_acc / len(val_set)))\n",
    "    else:\n",
    "        print('Epoch: {:03d}/{:03d}, training accuracy: {:3.6f}, training loss: {:3.6f}.'.format(\n",
    "              epoch + 1, EPOCH_NUM, train_acc / len(train_set), train_loss / len(train_loader)))\n",
    "    \n",
    "\n",
    "# If not validating, save the last epoch\n",
    "if len(val_set) == 0:\n",
    "    torch.save(model.state_dict(), model_path)\n",
    "    print('Saved the model at the last epoch.')"
   ]
  },
  {
   "cell_type": "code",
   "execution_count": 13,
   "id": "bf8e1a17",
   "metadata": {},
   "outputs": [
    {
     "data": {
      "image/png": "[encoded data removed]",
      "text/plain": [
       "<Figure size 720x576 with 1 Axes>"
      ]
     },
     "metadata": {
      "needs_background": "light"
     },
     "output_type": "display_data"
    }
   ],
   "source": [
    "# Show loss variation on training set and validation set during training\n",
    "plot_loss_curve(loss_record, title='Phoneme classification model')"
   ]
  },
  {
   "cell_type": "code",
   "execution_count": 14,
   "id": "6cc1cd62",
   "metadata": {},
   "outputs": [
    {
     "data": {
      "image/png": "[encoded data removed]",
      "text/plain": [
       "<Figure size 576x576 with 1 Axes>"
      ]
     },
     "metadata": {
      "needs_background": "light"
     },
     "output_type": "display_data"
    }
   ],
   "source": [
    "# Show classification prediction on validation set based on the best training model\n",
    "# Create model and load weights from checkpoint\n",
    "del model\n",
    "model = Classifier().to(device)\n",
    "best_model = torch.load(model_path)\n",
    "model.load_state_dict(best_model)\n",
    "\n",
    "plot_pred_curve_on_valiset(val_loader, model, device)"
   ]
  },
  {
   "cell_type": "markdown",
   "id": "a9a93bf5",
   "metadata": {},
   "source": [
    "## Testing\n",
    "\n",
    "Create a testing dataset, and load model from the saved checkpoint."
   ]
  },
  {
   "cell_type": "code",
   "execution_count": 15,
   "id": "a71c3265",
   "metadata": {},
   "outputs": [],
   "source": [
    "# Create testing dataset\n",
    "test_set = TIMITDataset(test_data, None)\n",
    "test_loader = DataLoader(test_set, batch_size=BATCH_SIZE, shuffle=False)"
   ]
  },
  {
   "cell_type": "markdown",
   "id": "3c38554f",
   "metadata": {},
   "source": [
    "Make prediction"
   ]
  },
  {
   "cell_type": "code",
   "execution_count": 16,
   "id": "bf2a9356",
   "metadata": {},
   "outputs": [],
   "source": [
    "results_predict = []\n",
    "model.eval()      # Set the model to evaluation mode\n",
    "with torch.no_grad():\n",
    "    for i, data in enumerate(test_loader):\n",
    "        inputs = data\n",
    "        inputs = inputs.to(device)\n",
    "        outputs = model(inputs)\n",
    "        _, test_pred = torch.max(outputs, 1)\n",
    "        \n",
    "        for y in test_pred.cpu().numpy():\n",
    "            results_predict.append(y)"
   ]
  },
  {
   "cell_type": "markdown",
   "id": "d0d108ba",
   "metadata": {},
   "source": [
    "Write prediction to a CSV file.\n",
    "\n",
    "After finish running this block, download the file `prediction.csv` from the files section on the left-hand side and submit it to Kaggle."
   ]
  },
  {
   "cell_type": "code",
   "execution_count": 17,
   "id": "49500ad0",
   "metadata": {},
   "outputs": [],
   "source": [
    "with open('prediction.csv', 'w') as f:\n",
    "    f.write('Index, Class\\n')\n",
    "    for i, y in enumerate(results_predict):\n",
    "        f.write('{},{}\\n'.format(i, y))"
   ]
  },
  {
   "cell_type": "markdown",
   "id": "08d4bef4",
   "metadata": {},
   "source": [
    "## Reference\n",
    "\n",
    "Original source: https://github.com/ga642381/ML2021-Spring/blob/main/HW02/HW02-1.ipynb"
   ]
  }
 ],
 "metadata": {
  "kernelspec": {
   "display_name": "Python [conda env:test] *",
   "language": "python",
   "name": "conda-env-test-py"
  },
  "language_info": {
   "codemirror_mode": {
    "name": "ipython",
    "version": 3
   },
   "file_extension": ".py",
   "mimetype": "text/x-python",
   "name": "python",
   "nbconvert_exporter": "python",
   "pygments_lexer": "ipython3",
   "version": "3.9.7"
  }
 },
 "nbformat": 4,
 "nbformat_minor": 5
}
