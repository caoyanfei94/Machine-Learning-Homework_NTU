{
 "cells": [
  {
   "cell_type": "markdown",
   "id": "01423f7b",
   "metadata": {},
   "source": [
    "# Homework 1: COVID-19 Caese Prediction (Regression)\n",
    "\n",
    "Author: Cao Yanfei\n",
    "\n",
    "Objectives:\n",
    "* Solve a regression problem with deep neural networks (DNN).\n",
    "* Understand basic DNN training tips.\n",
    "* Get familiar with pytorch."
   ]
  },
  {
   "cell_type": "markdown",
   "id": "3e493dba",
   "metadata": {},
   "source": [
    "# 1 Preparation\n",
    "\n",
    "## 1.1 Download Data\n",
    "\n",
    "If the Google drive links are dead, download data from [Kaggle](https://www.kaggle.com/c/ml2021spring-hw1/data), and upload data manually to the workspace."
   ]
  },
  {
   "cell_type": "code",
   "execution_count": 1,
   "id": "e75b0e5d",
   "metadata": {},
   "outputs": [],
   "source": [
    "# !gdown --id '19CCyCgJrUxtvgZF53vnctJiOJ23T5mqF' --output covid.train.csv\n",
    "# !gdown --id '1CE240jLm2npU-tdz81-oVKEF3T2yfT1O' --output covid.test.csv\n",
    "\n",
    "trainPath = '.\\\\dataset\\\\covid_train.csv'          # path to training data\n",
    "testPath = '.\\\\dataset\\\\covid_test.csv'            # path to testing data"
   ]
  },
  {
   "cell_type": "markdown",
   "id": "9e397d96",
   "metadata": {},
   "source": [
    "## 1.2 Import Some Packages"
   ]
  },
  {
   "cell_type": "code",
   "execution_count": 2,
   "id": "d4f5d71a",
   "metadata": {},
   "outputs": [
    {
     "name": "stderr",
     "output_type": "stream",
     "text": [
      "D:\\software\\Anaconda3\\installation\\envs\\test\\lib\\site-packages\\tqdm\\auto.py:22: TqdmWarning: IProgress not found. Please update jupyter and ipywidgets. See https://ipywidgets.readthedocs.io/en/stable/user_install.html\n",
      "  from .autonotebook import tqdm as notebook_tqdm\n"
     ]
    }
   ],
   "source": [
    "# pytorch\n",
    "import torch\n",
    "import torch.nn as nn\n",
    "from torch.utils.data import Dataset, DataLoader\n",
    "\n",
    "# data process\n",
    "import numpy as np\n",
    "import csv\n",
    "import os\n",
    "\n",
    "# plotting\n",
    "import matplotlib.pyplot as plt\n",
    "from matplotlib.pyplot import figure"
   ]
  },
  {
   "cell_type": "markdown",
   "id": "22106654",
   "metadata": {},
   "source": [
    "## 1.3 Some Utilities"
   ]
  },
  {
   "cell_type": "code",
   "execution_count": 3,
   "id": "19ddb86f",
   "metadata": {},
   "outputs": [],
   "source": [
    "def getDevice():\n",
    "    '''\n",
    "    Get device (if GPU is available, use GPU).\n",
    "    '''\n",
    "    return 'cuda' if torch.cuda.is_available() else 'cpu'\n",
    "\n",
    "def plotLrCurve(lrRecord):\n",
    "    '''\n",
    "    Plot learning rate variation during each epoch.\n",
    "    '''\n",
    "    figure(figsize=(6, 6))\n",
    "    plt.plot(range(len(lrRecord)), lrRecord, c='tab:purple')\n",
    "    plt.xlim(0, 1000)\n",
    "    plt.ylim(0, 0.001)\n",
    "    plt.xticks(np.arange(0, 1200, 200))\n",
    "    plt.yticks(np.arange(0, 0.0012, 0.0002))\n",
    "    plt.xlabel('Training step/epoch')\n",
    "    plt.ylabel('Learning rate')\n",
    "    plt.show()\n",
    "\n",
    "def plotLossCurve(lossRecord, title=''):\n",
    "    '''\n",
    "    Plot DNN learning curve (training and validation loss).\n",
    "    '''\n",
    "    totalSteps = len(lossRecord['train'])\n",
    "    # each batch size\n",
    "    x1 = range(totalSteps)\n",
    "    # each epoch\n",
    "    x2 = x1[:: len(lossRecord['train']) // len(lossRecord['validate'])]\n",
    "\n",
    "    figure(figsize=(10, 8))\n",
    "    # T10调色盘适用于离散分类，颜色名称以'tab:'为前缀\n",
    "    plt.plot(x1, lossRecord['train'], c='tab:red', label='training')\n",
    "    plt.plot(x2, lossRecord['validate'], c='tab:cyan', label='validation')\n",
    "    plt.xlim(-500, 9000)\n",
    "    plt.ylim(0., 5.)\n",
    "    plt.xticks(np.arange(0, 10000, 1000))\n",
    "    plt.yticks(np.arange(0., 6., 0.5))\n",
    "    plt.xlabel('Training step/batch')\n",
    "    plt.ylabel('MSE loss')\n",
    "    plt.title('Learning curve of {}'.format(title))\n",
    "    plt.legend()\n",
    "    plt.show()\n",
    "\n",
    "def plotPredCurveOnVali(validateSet, model, device, lim=40, preds=None, targets=None):\n",
    "    '''\n",
    "    Plot DNN prediction.\n",
    "    '''\n",
    "    if preds is None or targets is None:\n",
    "        model.eval()\n",
    "        \n",
    "        preds, targets = [], []\n",
    "        for featureData, target in validateSet:\n",
    "            featureData, target = featureData.to(device), target.to(device)\n",
    "            with torch.no_grad():\n",
    "                pred = model(featureData)\n",
    "                preds.append(pred.detach().cpu())\n",
    "                targets.append(target.detach().cpu())\n",
    "        preds = torch.cat(preds, dim=0).numpy()\n",
    "        targets = torch.cat(targets, dim=0).numpy()\n",
    "\n",
    "    figure(figsize=(8, 8))\n",
    "    plt.scatter(targets, preds, c='tab:red', alpha=0.5)\n",
    "    plt.plot([0, lim], [0, lim], c='tab:cyan')\n",
    "    plt.xlim(0, 40)\n",
    "    plt.ylim(0, 40)\n",
    "    plt.xlabel('ground truth value')\n",
    "    plt.ylabel('predicted value')\n",
    "    plt.title('Ground truth v.s. prediction')\n",
    "    plt.show()"
   ]
  },
  {
   "cell_type": "markdown",
   "id": "d17ff100",
   "metadata": {},
   "source": [
    "## 1.4 Set Random Seeds"
   ]
  },
  {
   "cell_type": "code",
   "execution_count": 4,
   "id": "cb21dbcc",
   "metadata": {},
   "outputs": [],
   "source": [
    "# set a random seed for reproducibility\n",
    "myseed = 42069\n",
    "np.random.seed(myseed)\n",
    "# 在NN训练中，参数是默认随机初始化的，设置种子每次训练的初始化都是固定的，可复现\n",
    "# 为CPU设置随机种子，用于生成随机数，可复现\n",
    "torch.manual_seed(myseed)\n",
    "\n",
    "# get current available device ('cpu' or 'cuda')\n",
    "device = getDevice()\n",
    "if device == 'cuda':\n",
    "    # 为所有GPU设置随机种子，用于生成随机数，可复现\n",
    "    torch.cuda.manual_seed_all(myseed)\n",
    "    \n",
    "    # cuDNN是nvidia专为DNN开发的GPU加速库，针对卷积、池化等操作做了非常多底层优化，比一般GPU快得多，大多主流深度学习框架都支持，包括pytorch\n",
    "    # 设置torch.backends.cudnn.deterministic=True\n",
    "    # 每次返回的卷积算法将是确定的，即默认算法，配合torch固定随机种子，可保证每次运行网络在相同输入下有相同输出，可复现\n",
    "    torch.backends.cudnn.deterministic = True\n",
    "\n",
    "    # 设置torch.backends.cudnn.benchmark=True\n",
    "    # 一般设置在程序开头\n",
    "    # 会在程序开始时额外花费一定预处理时间，内置auto-tuner为整个网络的每个卷积层搜索适合的卷积实现算法，优化训练效率\n",
    "    # 适用场景：网络结构固定，若卷积层一直变化，会导致程序不停做优化，耗费更多时间\n",
    "    #           网络输入形状（batchsize、image size、channel）固定，若输入形状变化，会重新搜寻最优算法\n",
    "    #           大部分情况，是适用的\n",
    "    # 使用GPU时，默认会使用cuDNN加速，但是默认torch.backends.cudnn.benchmark=False\n",
    "    torch.backends.cudnn.benchmark = False"
   ]
  },
  {
   "cell_type": "markdown",
   "id": "0a98c040",
   "metadata": {},
   "source": [
    "# 2. Preprocess\n",
    "\n",
    "Three kinds of datasets:\n",
    "* `train`: for training\n",
    "* `validate`: for validation\n",
    "* `test`: for testing (w/o target value)\n",
    "\n",
    "## 2.1 Dataset\n",
    "\n",
    "The`COVID19Dataset` below does:\n",
    "* read `.csv` files\n",
    "* extract features\n",
    "* split `covid_train.csv` into train/validate sets\n",
    "* normalize features"
   ]
  },
  {
   "cell_type": "code",
   "execution_count": 5,
   "id": "bb6aebae",
   "metadata": {},
   "outputs": [],
   "source": [
    "class COVID19Dataset(Dataset):\n",
    "    '''\n",
    "    Dataset for loading and preprocessing the COVID19 dataset.\n",
    "    member:\n",
    "        self.mode\n",
    "        self.data\n",
    "        self.target\n",
    "        self.dim\n",
    "        \n",
    "    '''\n",
    "    def __init__(self, path, mode='train', targetOnly=False):\n",
    "        '''\n",
    "        mode: value should be 'train', 'validate' or 'test'\n",
    "        targetOnly: True: only select 2 tested_positive columns and 40 states as features.\n",
    "        '''\n",
    "        if mode not in ['train', 'validate', 'test']:\n",
    "            raise Exception('Parameter mode is not valid!')\n",
    "        self.mode = mode\n",
    "        \n",
    "        # Read data into numpy arrays\n",
    "        # with open(path, 'r') as fp:\n",
    "        #    # 按行读取，二维list，每行一个list\n",
    "        #    data = list(csv.reader(fp))\n",
    "        #    data = np.array(data[1:])[:, 1:].astype(float)\n",
    "        data = np.loadtxt(path, dtype=str, delimiter=',')\n",
    "        data = data[1:, 1:].astype(float)\n",
    "        \n",
    "        # Select feature indices,not inlcude target column\n",
    "        if not targetOnly:\n",
    "            featureColIndices = list(range(93))\n",
    "        else:\n",
    "            # Using 40 states & 2 tested_positive features (indices = 57 & 75)\n",
    "            featureColIndices = list(range(40)) + [57, 75]\n",
    "        \n",
    "        if self.mode == 'test':\n",
    "            # Testing data\n",
    "            # data: 893 x 93 (40 states + day1(18) + day2(18) + day3(17))\n",
    "            data = data[:, featureColIndices]\n",
    "            \n",
    "            # Convert data from ndarray into tensor\n",
    "            self.data = torch.FloatTensor(data)\n",
    "        \n",
    "        if self.mode in ['train', 'validate']:\n",
    "            # Training data (train/validate sets)\n",
    "            # data: 2700 x 94 (40 states + day1(18) + day2(18) + day3(18))\n",
    "            # the last column: target\n",
    "            target = data[:, -1]\n",
    "            data = data[:, featureColIndices]\n",
    "            \n",
    "            # Split training data into train & validate sets\n",
    "            if mode == 'train':\n",
    "                rowIndices = [i for i in range(len(data)) if i % 10 != 0]\n",
    "            if mode == 'validate':\n",
    "                rowIndices = [i for i in range(len(data)) if i % 10 == 0]\n",
    "        \n",
    "            # Convert data from ndarray into tensor\n",
    "            self.data = torch.FloatTensor(data[rowIndices])\n",
    "            self.target = torch.FloatTensor(target[rowIndices])\n",
    "        \n",
    "        # Normalize features\n",
    "        # Z-score standardization 0均值标准化\n",
    "        # 把有量纲表达式变为无量纲表达式 （x- mean）/std，处理后数据符合标准正态分布，均值为0，标准差为1\n",
    "        # 归一化的优点：1）加快梯度下降求最优解的速度；2）可能提高精度，让不同维度间的特征在数值上有一定比较性\n",
    "        self.data[:, 40:] = (self.data[:, 40:] - self.data[:, 40:].mean(dim=0, keepdim=True))\\\n",
    "                            / self.data[:, 40:].std(dim=0, keepdim=True)\n",
    "        \n",
    "        # feature dim\n",
    "        self.dim = self.data.shape[1]\n",
    "        \n",
    "        print('Finished reading the {} set of COVID19 Dataset({} samples are found, dim of each sample is {})'\\\n",
    "              .format(self.mode, len(self.data), self.dim))\n",
    "    \n",
    "    def __getitem__(self, index):\n",
    "        # Returns one sample at a time\n",
    "        if self.mode in ['train', 'validate']:\n",
    "            # For training and validation\n",
    "            return self.data[index], self.target[index]\n",
    "        # For testing\n",
    "        return self.data[index]\n",
    "    \n",
    "    def __len__(self):\n",
    "        # Return the size of the dataset\n",
    "        return len(self.data)"
   ]
  },
  {
   "cell_type": "markdown",
   "id": "de9a8699",
   "metadata": {},
   "source": [
    "## 2.2 DataLoader\n",
    "A `DataLoader` loads data from a given `Dataset` into batches."
   ]
  },
  {
   "cell_type": "code",
   "execution_count": 6,
   "id": "23a40cbc",
   "metadata": {},
   "outputs": [],
   "source": [
    "def prepDataloader(path, mode, batchSize, nJobs=0, targetOnly=False):\n",
    "    '''\n",
    "    Generate a dataset, then is put into a DataLoader.\n",
    "    '''\n",
    "    # Construct a dataset\n",
    "    dataset = COVID19Dataset(path, mode=mode, targetOnly=targetOnly)\n",
    "    \n",
    "    # Construct a dataloader\n",
    "    # shuffle is only needed in training mode\n",
    "    # pin_memory 锁页内存：默认为False，与电脑硬件性能有关，当系统卡住或交换内存过多时，设置False\n",
    "    # pin_memory=True锁页内存存放的内容任何情况都不会与主机虚拟内存（硬盘）进行交换，这样内存的Tensor转义到GPU的显存会更快\n",
    "    dataloader = DataLoader(dataset, batchSize, shuffle=(mode == 'train'), drop_last=False, num_workers=nJobs, pin_memory=False)\n",
    "    return dataloader"
   ]
  },
  {
   "cell_type": "markdown",
   "id": "e689df7c",
   "metadata": {},
   "source": [
    "## 2.3 Deep Neural Network\n",
    "\n",
    "`NeuralNet` is designed for regression based on `nn.Module` . The DNN consists of 2 fully-connected layers with ReLU activation. This module also included a function `calcuLoss` for calculating loss."
   ]
  },
  {
   "cell_type": "code",
   "execution_count": 7,
   "id": "90b19b83",
   "metadata": {},
   "outputs": [],
   "source": [
    "class NeuralNet(nn.Module):\n",
    "    '''\n",
    "    A simple fully-connected deep neural network.\n",
    "    member:\n",
    "        self.net\n",
    "        self.criterion\n",
    "    '''\n",
    "    def __init__(self, inputDim):\n",
    "        super(NeuralNet, self).__init__()\n",
    "        \n",
    "        # Define your neural network\n",
    "        self.net = nn.Sequential(\n",
    "            nn.Conv1d(1, 32, 5, 1, 2),\n",
    "            nn.MaxPool1d(4),\n",
    "            nn.Conv1d(32, 64, 5, 1, 2),\n",
    "            nn.MaxPool1d(4),\n",
    "            nn.Flatten(),\n",
    "            nn.Linear(64 * (inputDim // 4 // 4), 128),\n",
    "            nn.ReLU(),\n",
    "            nn.Linear(128, 64),\n",
    "            nn.ReLU(),\n",
    "            nn.Linear(64, 1)\n",
    "        ) \n",
    "        \n",
    "        # Construct Mean squared error loss, and move to device\n",
    "        # reduction: default value is 'mean'\n",
    "        self.criterion = nn.MSELoss(reduction='mean').to(device)\n",
    "    \n",
    "    def forward(self, input):\n",
    "        '''\n",
    "        given  (batchSize * inputDim)input of size\n",
    "        '''\n",
    "        return self.net(input.unsqueeze(1)).squeeze(1)\n",
    "    \n",
    "    def calcuLoss(self, pred, target):\n",
    "        '''\n",
    "        Calculate loss.\n",
    "        '''\n",
    "        return self.criterion(pred, target)"
   ]
  },
  {
   "cell_type": "markdown",
   "id": "9b58206e",
   "metadata": {},
   "source": [
    "# 3 Train/Validate/Test Func\n",
    "\n",
    "## 3.1 Training Func"
   ]
  },
  {
   "cell_type": "code",
   "execution_count": 8,
   "id": "5ea25204",
   "metadata": {},
   "outputs": [],
   "source": [
    "def train(trainSet, validateSet, model, config, device):\n",
    "    '''\n",
    "    DNN training\n",
    "    '''\n",
    "    # Maximum number of epochs\n",
    "    nEpochs = config['nEpochs']\n",
    "    \n",
    "    # Setup optimizer\n",
    "    optimizer = getattr(torch.optim, config['optimizer'])(model.parameters(), **config['optimHyparas'])\n",
    "    # Cosine annealing learning rate\n",
    "    # optimizer: 提供初始学习率\n",
    "    # T_max: 整个训练过程中cosine循环的次数\n",
    "    # eta_min: 最小学习率，默认为0\n",
    "    # last_epoch: 上一次epoch的索引，便于计算当前的学习率，默认为-1\n",
    "    scheduler = torch.optim.lr_scheduler.CosineAnnealingLR(optimizer, T_max=nEpochs / 10, eta_min=0, last_epoch=-1)\n",
    "    \n",
    "    # minMse (minum MSE loss on validation set) is used to judge early stop count and whether to save the model\n",
    "    minMse = 1000.\n",
    "    # for recording training loss\n",
    "    lossRecord = {'train': [], 'validate': []}\n",
    "    lrRecord = []\n",
    "    earlyStopCnt = 0\n",
    "    epoch = 0\n",
    "    while epoch < nEpochs:\n",
    "        # Set model to training mode\n",
    "        # 启用Batch Normalization（BN）和Dropout层\n",
    "        # 模型中有BN和Dropout层，需要在train阶段添加model.train()\n",
    "        # 保证BN层能够用到每一批数据的均值和方差；对于Dropout，随机取一部分网络来训练更新参数\n",
    "        model.train()\n",
    "        \n",
    "        # iterate through the dataloader\n",
    "        for featureData, target in trainSet:\n",
    "            # move data to device (cpu/cuda)\n",
    "            featureData, target  = featureData.to(device), target.to(device)\n",
    "            # forward pass (compute output)\n",
    "            pred = model(featureData)\n",
    "            # compute loss\n",
    "            mseLoss = model.calcuLoss(pred, target)\n",
    "            \n",
    "            # set gradient to zero\n",
    "            optimizer.zero_grad()\n",
    "            # compute gradient (backpropagration)\n",
    "            mseLoss.backward()\n",
    "            # update model with optimizer\n",
    "            optimizer.step()\n",
    "            # convert tensor training loss (one batch) into ragular value, then save it into a list\n",
    "            lossRecord['train'].append(mseLoss.detach().cpu().item())\n",
    "            \n",
    "        # After each epoch, test your model on the validation (development) set.\n",
    "        # calculate total mean MSELoss in the whole validate set\n",
    "        validateMseLoss = validate(validateSet, model, device)\n",
    "        if validateMseLoss < minMse:\n",
    "            # Save model if your model improved\n",
    "            minMse = validateMseLoss\n",
    "            print('Saving model (epoch = {:4d}, loss = {:.4f})'.format(epoch + 1, minMse))\n",
    "            \n",
    "            # Save model to specified path\n",
    "            torch.save(model.state_dict(), config['savePath'])\n",
    "            \n",
    "            earlyStopCnt = 0\n",
    "        else:\n",
    "            earlyStopCnt += 1\n",
    "        # save validation loss (one epoch) into a list\n",
    "        lossRecord['validate'].append(validateMseLoss)\n",
    "        \n",
    "        # get and then tune learning rate\n",
    "        lrRecord.append(optimizer.state_dict()['param_groups'][0]['lr'])\n",
    "        scheduler.step()\n",
    "\n",
    "        epoch += 1\n",
    "        # Stop training if your model stops imrpoving on validation set for config['earlyStop'] epochs.\n",
    "        if earlyStopCnt > config['earlyStop']:\n",
    "            break\n",
    "\n",
    "    print('Finished training after {} epochs'.format(epoch))\n",
    "    return minMse, lossRecord, lrRecord"
   ]
  },
  {
   "cell_type": "markdown",
   "id": "aba39a7e",
   "metadata": {},
   "source": [
    "## 3.2 Validation Func"
   ]
  },
  {
   "cell_type": "code",
   "execution_count": 9,
   "id": "03aa239b",
   "metadata": {},
   "outputs": [],
   "source": [
    "def validate(validateSet, model, device):\n",
    "    # set model to evaluation mode\n",
    "    # 不启用Batch Normalization（BN）和Dropout层\n",
    "    # 模型中有BN和Dropout层，需要在validate和test阶段添加model.eval()\n",
    "    # 保证BN层能够用全部训练数据的均值和方差，即test过程要保证BN层的均值和方差不变；对于Dropout，利用率所有网络连接，不随机舍弃神经元\n",
    "    # 若不加model.eval()，有输入数据，即使不训练，也会改weight（模型中含有BN和Dropout带来的性质）\n",
    "    model.eval()\n",
    "    \n",
    "    totalLoss = 0\n",
    "    # iterate through dataloader\n",
    "    for featureData, target in validateSet:\n",
    "        # move data to device (cpu/cuda)\n",
    "        featureData, target  = featureData.to(device), target.to(device)\n",
    "        \n",
    "        # disable gradient calculation\n",
    "        with torch.no_grad():\n",
    "            # forward pass (compute output)\n",
    "            pred = model(featureData)\n",
    "            # compute loss\n",
    "            mseLoss = model.calcuLoss(pred, target)\n",
    "        # accumulate loss\n",
    "        totalLoss += mseLoss.detach().cpu().item() * len(featureData)\n",
    "    # compute averaged loss\n",
    "    totalLoss /= len(validateSet.dataset)\n",
    "    \n",
    "    return totalLoss"
   ]
  },
  {
   "cell_type": "markdown",
   "id": "7b5512e7",
   "metadata": {},
   "source": [
    "## 3.3 Testing Func"
   ]
  },
  {
   "cell_type": "code",
   "execution_count": 10,
   "id": "b5b43f2a",
   "metadata": {},
   "outputs": [],
   "source": [
    "def test(testSet, model, device):\n",
    "    # set model to evaluation mode\n",
    "    model.eval()\n",
    "    preds = []\n",
    "    \n",
    "    # iterate through dataloader\n",
    "    for featureData in testSet:\n",
    "        # move data to device (cpu/cuda)\n",
    "        featureData = featureData.to(device)\n",
    "        \n",
    "        # diable gradient calculation\n",
    "        with torch.no_grad():\n",
    "            # forward pass (compute output)\n",
    "            pred = model(featureData)\n",
    "            # collect prediction\n",
    "            preds.append(pred.detach().cpu())\n",
    "    # concatenate all predictions and convert to a numpy array\n",
    "    preds = torch.cat(preds, dim=0).numpy()\n",
    "    return preds"
   ]
  },
  {
   "cell_type": "markdown",
   "id": "608291a8",
   "metadata": {},
   "source": [
    "## 4 Setup Hyper-parameters\n",
    "\n",
    "`config` contains hyper-parameters for training and the path to save the model."
   ]
  },
  {
   "cell_type": "code",
   "execution_count": 11,
   "id": "5ca998a8",
   "metadata": {},
   "outputs": [],
   "source": [
    "# The training model wil be saved to ./models/\n",
    "# exist_ok=True: if this directory exists, not cause FileExistsError.\n",
    "os.makedirs('models', exist_ok=True)\n",
    "# Using 40 states & 2 tested_positive features\n",
    "targetOnly = False\n",
    "\n",
    "# TODO: How to tune these hyper-parameters to improve your model's performance?\n",
    "config = {\n",
    "    'nEpochs': 3000,                        # maximum number of epochs\n",
    "    'batchSize': 270,                       # mini-batch size for dataloader\n",
    "    'optimizer': 'SGD',                     # optimization algorithm (optimizer in torch.optim), SGD: Stochastic Gradient Descent\n",
    "    'optimHyparas': {                       # hyper-parameters for the optimizer (depends on which optimizer is used)\n",
    "        'lr': 0.001,                        # learning rate of SGD\n",
    "        'momentum': 0.9,                    # momentum for SGD\n",
    "        'weight_decay': 0.1                 # L2 regularization/weight decay: repress model expressiveness to prevent overfitting\n",
    "                                            # NOTE: Adam+L2 -> lose effectiveness\n",
    "    },\n",
    "    'earlyStop': 200,                       # early stopping epochs (the number epochs since your model's last improvement)\n",
    "    'savePath': 'models/best_model.pth'     # model will be saved here\n",
    "}"
   ]
  },
  {
   "cell_type": "markdown",
   "id": "9e9288c3",
   "metadata": {},
   "source": [
    "# 5 Load Data and Model"
   ]
  },
  {
   "cell_type": "code",
   "execution_count": 12,
   "id": "7b41d59a",
   "metadata": {},
   "outputs": [
    {
     "name": "stdout",
     "output_type": "stream",
     "text": [
      "Finished reading the train set of COVID19 Dataset(2430 samples are found, dim of each sample is 93)\n",
      "Finished reading the validate set of COVID19 Dataset(270 samples are found, dim of each sample is 93)\n",
      "Finished reading the test set of COVID19 Dataset(893 samples are found, dim of each sample is 93)\n"
     ]
    }
   ],
   "source": [
    "trainSet = prepDataloader(trainPath, 'train', config['batchSize'], nJobs=0, targetOnly=targetOnly)\n",
    "validateSet = prepDataloader(trainPath, 'validate', config['batchSize'], nJobs=0, targetOnly=targetOnly)\n",
    "testSet = prepDataloader(testPath, 'test', config['batchSize'], nJobs=0, targetOnly=targetOnly)"
   ]
  },
  {
   "cell_type": "code",
   "execution_count": 13,
   "id": "f1597b74",
   "metadata": {},
   "outputs": [],
   "source": [
    "# Construct model and move to device\n",
    "model = NeuralNet(trainSet.dataset.dim).to(device)"
   ]
  },
  {
   "cell_type": "markdown",
   "id": "269bbc33",
   "metadata": {},
   "source": [
    "# 6 Start Training"
   ]
  },
  {
   "cell_type": "code",
   "execution_count": 14,
   "id": "2f29f02b",
   "metadata": {},
   "outputs": [
    {
     "name": "stdout",
     "output_type": "stream",
     "text": [
      "Saving model (epoch =    1, loss = 106.0265)\n",
      "Saving model (epoch =    3, loss = 35.5123)\n",
      "Saving model (epoch =    5, loss = 30.6995)\n",
      "Saving model (epoch =    6, loss = 12.1281)\n",
      "Saving model (epoch =    7, loss = 11.3989)\n",
      "Saving model (epoch =    8, loss = 7.5735)\n",
      "Saving model (epoch =    9, loss = 6.3756)\n",
      "Saving model (epoch =   10, loss = 5.2022)\n",
      "Saving model (epoch =   11, loss = 4.3729)\n",
      "Saving model (epoch =   12, loss = 4.2425)\n",
      "Saving model (epoch =   13, loss = 3.8936)\n",
      "Saving model (epoch =   14, loss = 2.9395)\n",
      "Saving model (epoch =   16, loss = 2.4808)\n",
      "Saving model (epoch =   17, loss = 2.3387)\n",
      "Saving model (epoch =   19, loss = 2.1719)\n",
      "Saving model (epoch =   20, loss = 2.0012)\n",
      "Saving model (epoch =   22, loss = 1.8813)\n",
      "Saving model (epoch =   23, loss = 1.8293)\n",
      "Saving model (epoch =   25, loss = 1.7647)\n",
      "Saving model (epoch =   26, loss = 1.6892)\n",
      "Saving model (epoch =   28, loss = 1.5826)\n",
      "Saving model (epoch =   29, loss = 1.5316)\n",
      "Saving model (epoch =   35, loss = 1.4033)\n",
      "Saving model (epoch =   37, loss = 1.3553)\n",
      "Saving model (epoch =   43, loss = 1.2897)\n",
      "Saving model (epoch =   44, loss = 1.2779)\n",
      "Saving model (epoch =   45, loss = 1.2420)\n",
      "Saving model (epoch =   55, loss = 1.1925)\n",
      "Saving model (epoch =   56, loss = 1.1346)\n",
      "Saving model (epoch =   59, loss = 1.1012)\n",
      "Saving model (epoch =   78, loss = 1.0556)\n",
      "Saving model (epoch =   81, loss = 1.0410)\n",
      "Saving model (epoch =   87, loss = 1.0356)\n",
      "Saving model (epoch =   94, loss = 1.0255)\n",
      "Saving model (epoch =  100, loss = 1.0254)\n",
      "Saving model (epoch =  103, loss = 1.0235)\n",
      "Saving model (epoch =  107, loss = 1.0158)\n",
      "Saving model (epoch =  108, loss = 0.9742)\n",
      "Saving model (epoch =  116, loss = 0.9713)\n",
      "Saving model (epoch =  118, loss = 0.9677)\n",
      "Saving model (epoch =  119, loss = 0.9626)\n",
      "Saving model (epoch =  139, loss = 0.9604)\n",
      "Saving model (epoch =  140, loss = 0.9448)\n",
      "Saving model (epoch =  167, loss = 0.9290)\n",
      "Saving model (epoch =  179, loss = 0.9289)\n",
      "Saving model (epoch =  189, loss = 0.9219)\n",
      "Saving model (epoch =  363, loss = 0.9212)\n",
      "Saving model (epoch =  389, loss = 0.9188)\n",
      "Saving model (epoch =  400, loss = 0.9127)\n",
      "Saving model (epoch =  443, loss = 0.9052)\n",
      "Saving model (epoch =  470, loss = 0.9048)\n",
      "Saving model (epoch =  641, loss = 0.9015)\n",
      "Saving model (epoch =  732, loss = 0.8891)\n",
      "Finished training after 933 epochs\n"
     ]
    }
   ],
   "source": [
    "modelLoss, modelLossRecord, lrRecord = train(trainSet, validateSet, model, config, device)"
   ]
  },
  {
   "cell_type": "code",
   "execution_count": 15,
   "id": "2ed1224b",
   "metadata": {},
   "outputs": [
    {
     "data": {
      "image/png": "[encoded data removed]",
      "text/plain": [
       "<Figure size 432x432 with 1 Axes>"
      ]
     },
     "metadata": {
      "needs_background": "light"
     },
     "output_type": "display_data"
    }
   ],
   "source": [
    "# Show lr variation on each epoch\n",
    "plotLrCurve(lrRecord)"
   ]
  },
  {
   "cell_type": "code",
   "execution_count": 16,
   "id": "4aaee66d",
   "metadata": {},
   "outputs": [
    {
     "data": {
      "image/png": "[encoded data removed]",
      "text/plain": [
       "<Figure size 720x576 with 1 Axes>"
      ]
     },
     "metadata": {
      "needs_background": "light"
     },
     "output_type": "display_data"
    }
   ],
   "source": [
    "# Show loss variation on training set and validation set during training\n",
    "plotLossCurve(modelLossRecord, title='COVID19 prediction model')"
   ]
  },
  {
   "cell_type": "code",
   "execution_count": 17,
   "id": "d0272384",
   "metadata": {},
   "outputs": [
    {
     "data": {
      "image/png": "[encoded data removed]",
      "text/plain": [
       "<Figure size 576x576 with 1 Axes>"
      ]
     },
     "metadata": {
      "needs_background": "light"
     },
     "output_type": "display_data"
    }
   ],
   "source": [
    "# load the best model\n",
    "del model\n",
    "model = NeuralNet(trainSet.dataset.dim).to(device)\n",
    "bestModel = torch.load(config['savePath'], map_location='cpu')\n",
    "model.load_state_dict(bestModel)\n",
    "\n",
    "# Show prediction on validation set based on the best training model.\n",
    "plotPredCurveOnVali(validateSet, model, device)"
   ]
  },
  {
   "cell_type": "markdown",
   "id": "8de18ed1",
   "metadata": {},
   "source": [
    "# 7 Testing\n",
    "\n",
    "The model predictions on testing set will be stored at `preds.csv`."
   ]
  },
  {
   "cell_type": "code",
   "execution_count": 18,
   "id": "54e08ccb",
   "metadata": {},
   "outputs": [
    {
     "name": "stdout",
     "output_type": "stream",
     "text": [
      "Succeeded in saving results to preds.csv.\n"
     ]
    }
   ],
   "source": [
    "def savePreds(preds, fileName):\n",
    "    '''\n",
    "    Save predictions to speified file\n",
    "    '''\n",
    "    # with open(fileName, 'w') as fp:\n",
    "    #     writer = csv.writer(fp)\n",
    "    #     writer.writerow(['id', 'tested_positive'])\n",
    "    #     # enumerate()用于将一个可遍历的数据对象组合成一个索引序列（元素为(数据下标，数据)），一般用于for循环中\n",
    "    #     for index, prediction in enumerate(preds):\n",
    "    #         writer.writerow([index, prediction])\n",
    "    title = np.array([['id', 'tested_positive']])\n",
    "    writeData = np.concatenate((title, np.array(list(enumerate(preds)))))\n",
    "    np.savetxt(fileName, writeData, fmt='%s', delimiter=',')\n",
    "    \n",
    "    print('Succeeded in saving results to {}.'.format(fileName))\n",
    "\n",
    "# Predict COVID19 cases with the best model\n",
    "preds = test(testSet, model, device)\n",
    "# Save predictions to preds.csv\n",
    "savePreds(preds, 'preds.csv')"
   ]
  },
  {
   "cell_type": "markdown",
   "id": "944c9f7b",
   "metadata": {},
   "source": [
    "# 8 Hints\n",
    "\n",
    "## Simple Baseline\n",
    "\n",
    "* Run these codes\n",
    "\n",
    "## Medium Baseline\n",
    "* Feature selection: 40 states + 2 `tested_positive`\n",
    "\n",
    "## Strong Baseline\n",
    "\n",
    "* Feature selection (what other features are useful?)\n",
    "* DNN architecture (layers? dimension? activation function?)\n",
    "* Training (mini-batch? optimizer? learning rate?)\n",
    "* L2 regularization"
   ]
  },
  {
   "cell_type": "markdown",
   "id": "5ac2d948",
   "metadata": {},
   "source": [
    "# Reference\n",
    "\n",
    "Original source: Heng-Jui Chang (https://github.com/ga642381/ML2021-Spring/blob/main/HW01/HW01.ipynb)"
   ]
  }
 ],
 "metadata": {
  "kernelspec": {
   "display_name": "Python [conda env:test] *",
   "language": "python",
   "name": "conda-env-test-py"
  },
  "language_info": {
   "codemirror_mode": {
    "name": "ipython",
    "version": 3
   },
   "file_extension": ".py",
   "mimetype": "text/x-python",
   "name": "python",
   "nbconvert_exporter": "python",
   "pygments_lexer": "ipython3",
   "version": "3.9.7"
  }
 },
 "nbformat": 4,
 "nbformat_minor": 5
}
