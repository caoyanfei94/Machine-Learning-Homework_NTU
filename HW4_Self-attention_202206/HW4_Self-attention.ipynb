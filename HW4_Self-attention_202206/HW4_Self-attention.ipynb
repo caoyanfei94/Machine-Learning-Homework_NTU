{
 "cells": [
  {
   "cell_type": "markdown",
   "id": "b1606536",
   "metadata": {},
   "source": [
    "## Homework 4: Self Attention\n",
    "\n",
    "Author: Cao Yanfei\n",
    "\n",
    "### Task description\n",
    "- Classify the speakrs of given features.\n",
    "- Main goal: Learn how to use transformer.\n",
    "- Baselines:\n",
    "    - Easy: Run sample code and know how to use transformer.\n",
    "    - Medium: Know how to adjust parameters of transformer.\n",
    "    - Hard: Construct [conformer](https://arxiv.org/abs/2005.08100) which is a variety of transformer.\n",
    "\n",
    "- Other links\n",
    "  - Kaggle: [link](https://www.kaggle.com/t/859c9ca9ede14fdea841be627c412322)\n",
    "  - Slide: [link](https://speech.ee.ntu.edu.tw/~hylee/ml/ml2021-course-data/hw/HW04/HW04.pdf)\n",
    "  - Data: [link](https://drive.google.com/file/d/1T0RPnu-Sg5eIPwQPfYysipfcz81MnsYe/view?usp=sharing)\n",
    "  - Video (Chinese): [link](https://www.youtube.com/watch?v=EPerg2UnGaI)\n",
    "  - Video (English): [link](https://www.youtube.com/watch?v=Gpz6AUvCak0)\n",
    "  - Solution for downloading dataset fail.: [link](https://drive.google.com/drive/folders/13T0Pa_WGgQxNkqZk781qhc5T9-zfh19e?usp=sharing)"
   ]
  },
  {
   "cell_type": "markdown",
   "id": "f537fa32",
   "metadata": {},
   "source": [
    "### Download dataset\n",
    "\n",
    "- Please follow [here](https://drive.google.com/drive/folders/13T0Pa_WGgQxNkqZk781qhc5T9-zfh19e?usp=sharing) to download the data\n",
    "- Data is [here](https://drive.google.com/file/d/1gaFy8RaQVUEXo2n0peCBR5gYKCB-mNHc/view?usp=sharing)"
   ]
  },
  {
   "cell_type": "code",
   "execution_count": 1,
   "id": "dce23307",
   "metadata": {},
   "outputs": [],
   "source": [
    "# !gdown --id 'paste your own data download link' --output Dataset.zip\n",
    "# !upzip Dataset.zip"
   ]
  },
  {
   "cell_type": "markdown",
   "id": "86a1d933",
   "metadata": {},
   "source": [
    "### Dataset\n",
    "\n",
    "- Original dataset is [Voxceleb1](https://www.robots.ox.ac.uk/~vgg/data/voxceleb/).\n",
    "- The [license](https://creativecommons.org/licenses/by/4.0/) and [complete version](https://www.robots.ox.ac.uk/~vgg/data/voxceleb/files/license.txt) of Voxceleb1.\n",
    "- We randomly select 600 speakers from Voxceleb1.\n",
    "- Then preprocess the raw waveforms into mel-spectrograms.\n",
    "\n",
    "- Args:\n",
    "    - data_dir: The path to the data directory.\n",
    "    - metadata_path: The path to the metadata.\n",
    "    - segment_len: The length of audio segment for training.\n",
    "- The architecture of data directory \\\n",
    "    - data directory \\\n",
    "    |---- metadata.json \\\n",
    "    |---- testdata.json \\\n",
    "    |---- mapping.json \\\n",
    "    |---- uttr-{random string}.pt \\\n",
    "\n",
    "- The information in metadata\n",
    "    - `n_mels`: The dimension of mel-spectrogram.\n",
    "    - `speakers`: A dictionary.\n",
    "        - key: speaker ids.\n",
    "        - value: 'feature_path' and 'mel_len'\n",
    "\n",
    "For efficiency, we segment the mel-spectrograms into segments in the training step."
   ]
  },
  {
   "cell_type": "code",
   "execution_count": 2,
   "id": "20ea33b9",
   "metadata": {},
   "outputs": [],
   "source": [
    "import os\n",
    "import json\n",
    "import torch\n",
    "import random\n",
    "from pathlib import Path\n",
    "from torch.utils.data import Dataset\n",
    "from torch.nn.utils.rnn import pad_sequence"
   ]
  },
  {
   "cell_type": "code",
   "execution_count": 3,
   "id": "4854eea2",
   "metadata": {},
   "outputs": [],
   "source": [
    "class MyDataset(Dataset):\n",
    "    '''\n",
    "    member:\n",
    "    self.data_dir\n",
    "    self.segment_len\n",
    "    self.speaker2id\n",
    "    self.speaker_num\n",
    "    self.data\n",
    "    '''\n",
    "    def __init__(self, data_dir, segment_len=128):\n",
    "        self.data_dir = data_dir\n",
    "        self.segment_len = segment_len\n",
    "        \n",
    "        # Load the mapping from speaker name to their corresponding id.\n",
    "        mapping_path = Path(data_dir) / 'mapping.json'\n",
    "        mapping = json.load(mapping_path.open())                # Path_object.open() is like open(Path_object)\n",
    "        self.speaker2id = mapping['speaker2id']\n",
    "        \n",
    "        # Load metadata of training data.\n",
    "        metadata_path = Path(data_dir) / 'metadata.json'         # Path() returns a path object\n",
    "        metadata = json.load(open(metadata_path))['speakers']    # open() opens a file and returns a file object, and it will raise OSError when failure occurs.\n",
    "        \n",
    "        # Get the total number of speaker.\n",
    "        self.speaker_num = len(metadata.keys())\n",
    "        self.data = []\n",
    "        for speaker in metadata.keys():\n",
    "            for utterances in metadata[speaker]:\n",
    "                self.data.append([utterances['feature_path'], self.speaker2id[speaker]])\n",
    "    \n",
    "    def __len__(self):\n",
    "        return len(self.data)\n",
    "    \n",
    "    def __getitem__(self, index):\n",
    "        feature_path, speaker = self.data[index]\n",
    "        # Load preprocessed mel-spectrogram.\n",
    "        mel = torch.load(os.path.join(self.data_dir, feature_path))    # os.path.join() connect two or more path name, add '/' automatically.\n",
    "        \n",
    "        # Segment mel-spectrogram into 'segment_len' frames.\n",
    "        if len(mel) > self.segment_len:\n",
    "            # Randomly get the starting point of the segment.\n",
    "            start = random.randint(0, len(mel) - self.segment_len) # random.randint(a, b) returns a random int between [a, b]\n",
    "            # Get a asegment with 'segment_len' frames.\n",
    "            mel = torch.FloatTensor(mel[start: start + self.segment_len])\n",
    "        else:\n",
    "            mel = torch.FloatTensor(mel)\n",
    "        # Turn the speaker id into long for computing loss later.\n",
    "        speaker = torch.FloatTensor([speaker]).long()\n",
    "        return mel, speaker\n",
    "    \n",
    "    def get_speaker_number(self):\n",
    "        return self.speaker_num"
   ]
  },
  {
   "cell_type": "markdown",
   "id": "2ce60b85",
   "metadata": {},
   "source": [
    "### Dataloader\n",
    "\n",
    "- Split dataset into training dataset (90%) and validation dataset (10%).\n",
    "- Create dataloader to iterate the data."
   ]
  },
  {
   "cell_type": "code",
   "execution_count": 4,
   "id": "2a8e5444",
   "metadata": {},
   "outputs": [],
   "source": [
    "import torch\n",
    "from torch.utils.data import DataLoader, random_split\n",
    "from torch.nn.utils.rnn import pad_sequence"
   ]
  },
  {
   "cell_type": "code",
   "execution_count": 5,
   "id": "4a811caf",
   "metadata": {},
   "outputs": [],
   "source": [
    "def collate_batch(batch):\n",
    "    '''\n",
    "    Process features within a batch.\n",
    "    Collate a batch of data.\n",
    "    '''\n",
    "    mel, speaker = zip(*batch)\n",
    "    # Because we train the model batch by batch, we need to pad the features in the same batch to make their lengths the same.\n",
    "    mel = pad_sequence(mel, batch_first=True, padding_value=-20)    # pad log 10^(-20) which is a very small value.\n",
    "    # mel: (batch size, length, 40)\n",
    "    return mel, torch.FloatTensor(speaker).long()\n",
    "\n",
    "def get_dataloader(data_dir, batch_size, n_workers):\n",
    "    '''\n",
    "    Generate dataloader\n",
    "    '''\n",
    "    dataset = MyDataset(data_dir)\n",
    "    speaker_num = dataset.get_speaker_number()\n",
    "    # Split dataset into training dataset and validation dataset\n",
    "    trainlen = int(0.9 * len(dataset))\n",
    "    lengths = [trainlen, len(dataset) - trainlen]\n",
    "    trainset, validset = random_split(dataset, lengths)\n",
    "    \n",
    "    train_loader = DataLoader(\n",
    "        trainset,\n",
    "        batch_size=batch_size,\n",
    "        shuffle=True,\n",
    "        drop_last=True,\n",
    "        num_workers=n_workers,\n",
    "        pin_memory=True,\n",
    "        collate_fn=collate_batch,\n",
    "    )\n",
    "    valid_loader = DataLoader(\n",
    "        validset,\n",
    "        batch_size=batch_size,\n",
    "        num_workers=n_workers,\n",
    "        drop_last=True,\n",
    "        pin_memory=True,\n",
    "        collate_fn=collate_batch,\n",
    "    )\n",
    "    \n",
    "    return train_loader, valid_loader, speaker_num"
   ]
  },
  {
   "cell_type": "markdown",
   "id": "9628bc54",
   "metadata": {},
   "source": [
    "### Model\n",
    "\n",
    "- TransformerEncoderLayer:\n",
    "    - `Base transformer encoder layer` in [Attention Is All You Need](https://arxiv.org/abs/1706.03762)\n",
    "    - Parameters:\n",
    "        - `d_model`: the number of expected features of the input (required).\n",
    "        - `nhead`: the number of heads of the multiheadattention models (required).\n",
    "        - `dim_feedforward`: the dimension of the feedforward network model (default=2048).\n",
    "        - `dropout`: the dropout value (default=0.1).\n",
    "        - `activation`: the activation function of intermediate layer, relu or gelu (default=relu).\n",
    "    - TransformerEncoder:\n",
    "        - TransformerEncoder is a stack of N transformer encoder layers\n",
    "        - Parameters:\n",
    "            - `encoder_layer`: an instance of the TransformerEncoderLayer() class (required).\n",
    "            - `num-layers`: the number of sub-encoder-layers in the encoder (required).\n",
    "            - `norm`: the layer normalizarion component (optional)."
   ]
  },
  {
   "cell_type": "code",
   "execution_count": 6,
   "id": "39233d18",
   "metadata": {},
   "outputs": [],
   "source": [
    "import torch\n",
    "import torch.nn as nn\n",
    "import torch.nn.functional as F\n",
    "# TODO........................................\n",
    "# import module 'conformer'\n",
    "from conformer import ConformerBlock\n",
    "\n",
    "class Classifier(nn.Module):\n",
    "    '''\n",
    "    members:\n",
    "        self.prenet\n",
    "        self.encoder_layer\n",
    "    '''\n",
    "    def __init__(self, d_model=80, n_speakers=600, dropout=0.1):\n",
    "        super().__init__()\n",
    "        # Project the dimension of features from that of input into d_model.\n",
    "        self.prenet = nn.Linear(40, d_model)\n",
    "        \n",
    "        # Transformer layer\n",
    "        self.encoder_layer = nn.TransformerEncoderLayer(\n",
    "            d_model=d_model, dim_feedforward=256, nhead=1\n",
    "        )\n",
    "        self.encoder = nn.TransformerEncoder(self.encoder_layer, num_layers=2)    # num_layers: layer nums of encoder layers\n",
    "        \n",
    "        # TODO..............................................................\n",
    "        # Change Transformer to Conformer (A variety of Transformer).\n",
    "        # https://arxiv.org/abs/2005.08100\n",
    "        self.conformer_layer = ConformerBlock(\n",
    "            dim=d_model, \n",
    "            dim_head=64, \n",
    "            heads=1,                    # Though we can set multiheads, one head is enough for the model in this task.\n",
    "            ff_mult=4,                  # ff_mult is used as a multiplier of Linear layer in Feed Forward Network.\n",
    "            conv_expansion_factor=4,    # conv_expansion_factor is used as a multiplier in convolution.\n",
    "            conv_kernel_size=31, \n",
    "            attn_dropout=dropout, \n",
    "            ff_dropout=dropout, \n",
    "            conv_dropout=dropout\n",
    "        )\n",
    "        \n",
    "        # Project the dimension of features from d_model into speaker nums.\n",
    "        self.pred_layer = nn.Sequential(\n",
    "            # nn.Linear(d_model, d_model),\n",
    "            nn.ReLU(),\n",
    "            nn.Linear(d_model, n_speakers),\n",
    "        )\n",
    "    \n",
    "    def forward(self, mels):\n",
    "        '''\n",
    "        args:\n",
    "            mels: (batch size, length, 40)\n",
    "        return:\n",
    "            out: (batch size, n_speakers)\n",
    "        '''\n",
    "        # out: (batch size, length, d_model)\n",
    "        out = self.prenet(mels)\n",
    "        # out: (length, batch size, d_model)\n",
    "        out = out.permute(1, 0, 2)             # permute(): permute dimensions of a tensor\n",
    "        # The encoder layer expect features in the shape of (length, batch size, d_model).\n",
    "        # out = self.encoder(out)\n",
    "        out = self.conformer_layer(out)\n",
    "        \n",
    "        # out: (batch size, length, d_model)\n",
    "        out = out.transpose(0, 1)              # transpose(): transpose dimensions of a tensor\n",
    "        # mean pooling\n",
    "        stats = out.mean(dim=1)\n",
    "        \n",
    "        # out: (batch size, n_speakers)\n",
    "        out = self.pred_layer(stats)\n",
    "        return out"
   ]
  },
  {
   "cell_type": "markdown",
   "id": "981d7f79",
   "metadata": {},
   "source": [
    "### Learning rate schedule\n",
    "\n",
    "- For transformer architecture, the design of learning rate schedule is different from that of CNN.\n",
    "- Previous works show that the `warmup of learning rate is useful` for training models with transformer architectures.\n",
    "- The `warmup schedule`\n",
    "    - Set learning rate to 0 in the beginning\n",
    "    - The learning rate increases linearly from 0 to initial learning rate during warmup period."
   ]
  },
  {
   "cell_type": "code",
   "execution_count": 7,
   "id": "fd6f9bea",
   "metadata": {},
   "outputs": [],
   "source": [
    "import math\n",
    "from torch.optim import Optimizer\n",
    "from torch.optim.lr_scheduler import LambdaLR\n",
    "\n",
    "def get_cosine_schedule_with_warmup(\n",
    "    optimizer: Optimizer, \n",
    "    num_warmup_steps: int, \n",
    "    num_training_steps: int,\n",
    "    num_cycles: float=0.5,\n",
    "    last_epoch: int=-1,\n",
    "):\n",
    "    '''\n",
    "    Create a schedule with a learning rate that decreases following the values of the cosine function \n",
    "    between the initial lr set in the optimizer to 0, after a warmup period during which it increases \n",
    "    linearly between 0 and the initial lr set in the optimizer.\n",
    "    \n",
    "    Args:\n",
    "        optimizer (:class:`~torch.optim.Optimzer`): The optimzer for which to schedule the learning rate.\n",
    "        num_warmup_steps (:obj:`int`): The number of steps for the warmup phase.\n",
    "        num_training_steps (:obj:`int`): The total number of training steps.\n",
    "        num_cycles (:obj:`float`, `optional`, defaults to 0.5): The number of waves in the cosine schedule (the defaults is to just decrease from the max value to 0 following a half-cosine).\n",
    "        last_epoch (:obj:`int`, `optional`, defaults to -1): The index of the last epoch when resuming training.\n",
    "        \n",
    "    Return:\n",
    "        :obj:`torch.optim.lr_scheduler.LambdaLR` with the appropriate schedule.\n",
    "    '''\n",
    "    def lr_lambda(current_step):\n",
    "        # Warmup\n",
    "        if current_step < num_warmup_steps:\n",
    "            return float(current_step) / float(max(1, num_warmup_steps))\n",
    "        # decadence\n",
    "        progress = float(current_step - num_warmup_steps) / float(max(1, num_training_steps - num_warmup_steps))\n",
    "        return max(0.0, 0.5 * (1.0 + math.cos(math.pi * float(num_cycles) * 2.0 * progress)))\n",
    "    \n",
    "    return LambdaLR(optimizer, lr_lambda, last_epoch)"
   ]
  },
  {
   "cell_type": "markdown",
   "id": "b4a676ad",
   "metadata": {},
   "source": [
    "### Model function\n",
    "\n",
    "- Model forward function."
   ]
  },
  {
   "cell_type": "code",
   "execution_count": 8,
   "id": "a530807f",
   "metadata": {},
   "outputs": [],
   "source": [
    "def model_fn(batch_data, model, criterion, device):\n",
    "    '''\n",
    "    Forward a batch through the model.\n",
    "    '''\n",
    "    \n",
    "    mels, labels = batch_data\n",
    "    mels = mels.to(device)\n",
    "    labels = labels.to(device)\n",
    "    \n",
    "    outs = model(mels)\n",
    "    \n",
    "    loss = criterion(outs, labels)\n",
    "    \n",
    "    # Get the speaker id with highest probability.\n",
    "    preds = outs.argmax(1)\n",
    "    # Compute accuracy.\n",
    "    accuracy = torch.mean((preds == labels).float())\n",
    "    \n",
    "    return loss, accuracy"
   ]
  },
  {
   "cell_type": "markdown",
   "id": "3ea40042",
   "metadata": {},
   "source": [
    "### Validate\n",
    "\n",
    "- Calculate accuracy of the validation set."
   ]
  },
  {
   "cell_type": "code",
   "execution_count": 9,
   "id": "ab886790",
   "metadata": {},
   "outputs": [],
   "source": [
    "from tqdm import tqdm\n",
    "\n",
    "def valid(dataloader, model, criterion, device):\n",
    "    '''\n",
    "    Validate on validation set.\n",
    "    '''\n",
    "    \n",
    "    model.eval()\n",
    "    running_loss = 0.0\n",
    "    running_accuracy = 0.0\n",
    "    pbar = tqdm(total=len(dataloader.dataset), ncols=0, desc='Valid', unit='uttr')\n",
    "    \n",
    "    for i, batch_data in enumerate(dataloader):\n",
    "        with torch.no_grad():\n",
    "            loss, accuracy = model_fn(batch_data, model, criterion, device)\n",
    "            running_loss += loss.item()\n",
    "            running_accuracy += accuracy.item()\n",
    "            \n",
    "        pbar.update(dataloader.batch_size)\n",
    "        pbar.set_postfix(\n",
    "            loss=f'{running_loss / (i + 1):.2f}',\n",
    "            accuracy=f'{running_accuracy / (i + 1):.2f}',\n",
    "        )\n",
    "        \n",
    "    pbar.close()\n",
    "    model.train()\n",
    "    \n",
    "    return running_loss / len(dataloader), running_accuracy / len(dataloader)"
   ]
  },
  {
   "cell_type": "markdown",
   "id": "21ef3ffd",
   "metadata": {},
   "source": [
    "### Training and validation visualization\n"
   ]
  },
  {
   "cell_type": "code",
   "execution_count": 10,
   "id": "9bcb6679",
   "metadata": {},
   "outputs": [],
   "source": [
    "import numpy as np\n",
    "import matplotlib.pyplot as plt\n",
    "from matplotlib.pyplot import figure\n",
    "\n",
    "def plot_loss_curve(loss_record, batch_num, title=''):\n",
    "    '''\n",
    "    Plot learning loss curve (training and validation loss).\n",
    "    '''\n",
    "    total_steps = len(loss_record['train'])\n",
    "    # each batch\n",
    "    x1 = np.arange(total_steps)\n",
    "    x2 = x1[:: len(loss_record['train']) // len(loss_record['validate'])]\n",
    "   \n",
    "    figure(figsize=(10, 8))\n",
    "    # T10调色盘适用于离散分类，颜色名称以'tab:'为前缀\n",
    "    plt.plot(x1, loss_record['train'], c='tab:red', label='training')\n",
    "    plt.plot(x2, loss_record['validate'], c='tab:cyan', label='validation')\n",
    "    plt.xlim(-2, batch_num * 1.01)\n",
    "    plt.ylim(0., 10.)\n",
    "    plt.xticks(np.arange(0, batch_num * 1.01, batch_num // 10))\n",
    "    plt.yticks(np.arange(0., 10., 1))\n",
    "    plt.xlabel('Training step/Batch')\n",
    "    plt.ylabel('CrossEntropy loss')\n",
    "    plt.title('Learning loss curve of {}'.format(title))\n",
    "    plt.legend()\n",
    "    plt.show()\n",
    "    \n",
    "def plot_acc_curve(acc_record, batch_num, title=''):\n",
    "    '''\n",
    "    Plot learning accuracy curve (training and validation accuracy).\n",
    "    '''\n",
    "    total_steps = len(acc_record['train'])\n",
    "    # each batch\n",
    "    x1 = np.arange(total_steps)\n",
    "    x2 = x1[:: len(acc_record['train']) // len(acc_record['validate'])]\n",
    "   \n",
    "    figure(figsize=(10, 8))\n",
    "    # T10调色盘适用于离散分类，颜色名称以'tab:'为前缀\n",
    "    plt.plot(x1, acc_record['train'], c='tab:red', label='training')\n",
    "    plt.plot(x2, acc_record['validate'], c='tab:cyan', label='validation')\n",
    "    plt.xlim(-2, batch_num * 1.01)\n",
    "    plt.ylim(0., 1.2)\n",
    "    plt.xticks(np.arange(0, batch_num * 1.01, batch_num // 10))\n",
    "    plt.yticks(np.arange(0., 1.2, 0.2))\n",
    "    plt.xlabel('Training step/Batch')\n",
    "    plt.ylabel('Accuracy')\n",
    "    plt.title('Learning accuracy curve of {}'.format(title))\n",
    "    plt.legend()\n",
    "    plt.show() "
   ]
  },
  {
   "cell_type": "markdown",
   "id": "fb0e41a6",
   "metadata": {},
   "source": [
    "### Main function"
   ]
  },
  {
   "cell_type": "code",
   "execution_count": 11,
   "id": "9637e488",
   "metadata": {
    "scrolled": false
   },
   "outputs": [
    {
     "name": "stdout",
     "output_type": "stream",
     "text": [
      "[Info]: Use cpu now!\n",
      "[Info]: Finish loading data!\n",
      "[Info]: Finish creating model!\n"
     ]
    },
    {
     "name": "stderr",
     "output_type": "stream",
     "text": [
      "Train: 100% 2000/2000 [11:37<00:00,  2.87step/s, accuracy=0.16, loss=4.61, step=2000]\n",
      "Valid: 100% 6944/6944 [00:28<00:00, 245.27uttr/s, accuracy=0.15, loss=4.34]\n",
      "Train: 100% 2000/2000 [11:20<00:00,  2.94step/s, accuracy=0.25, loss=3.57, step=4000]\n",
      "Valid: 100% 6944/6944 [00:28<00:00, 241.15uttr/s, accuracy=0.30, loss=3.35]\n",
      "Train: 100% 2000/2000 [11:27<00:00,  2.91step/s, accuracy=0.34, loss=3.09, step=6000]\n",
      "Valid: 100% 6944/6944 [00:28<00:00, 246.56uttr/s, accuracy=0.37, loss=2.91]\n",
      "Train: 100% 2000/2000 [11:20<00:00,  2.94step/s, accuracy=0.28, loss=2.83, step=8000]\n",
      "Valid: 100% 6944/6944 [00:29<00:00, 237.85uttr/s, accuracy=0.42, loss=2.66]\n",
      "Train: 100% 2000/2000 [11:23<00:00,  2.92step/s, accuracy=0.56, loss=2.25, step=1e+4]\n",
      "Valid: 100% 6944/6944 [00:28<00:00, 241.67uttr/s, accuracy=0.47, loss=2.41]\n",
      "Train:   0% 0/2000 [00:00<?, ?step/s]"
     ]
    },
    {
     "name": "stdout",
     "output_type": "stream",
     "text": [
      "Step: 10000, best model saved. (accuracy=0.4703)\n"
     ]
    },
    {
     "name": "stderr",
     "output_type": "stream",
     "text": [
      "Train: 100% 2000/2000 [11:23<00:00,  2.93step/s, accuracy=0.50, loss=2.38, step=12000]\n",
      "Valid: 100% 6944/6944 [00:32<00:00, 213.82uttr/s, accuracy=0.51, loss=2.23]\n",
      "Train: 100% 2000/2000 [11:22<00:00,  2.93step/s, accuracy=0.69, loss=1.69, step=14000]\n",
      "Valid: 100% 6944/6944 [00:28<00:00, 241.34uttr/s, accuracy=0.52, loss=2.15]\n",
      "Train: 100% 2000/2000 [11:24<00:00,  2.92step/s, accuracy=0.66, loss=1.92, step=16000]\n",
      "Valid: 100% 6944/6944 [00:28<00:00, 242.65uttr/s, accuracy=0.55, loss=2.01]\n",
      "Train: 100% 2000/2000 [11:25<00:00,  2.92step/s, accuracy=0.72, loss=1.39, step=18000]\n",
      "Valid: 100% 6944/6944 [00:28<00:00, 241.54uttr/s, accuracy=0.57, loss=1.90]\n",
      "Train: 100% 2000/2000 [11:26<00:00,  2.91step/s, accuracy=0.62, loss=1.69, step=2e+4] \n",
      "Valid: 100% 6944/6944 [00:29<00:00, 233.70uttr/s, accuracy=0.59, loss=1.81]\n",
      "Train:   0% 0/2000 [00:00<?, ?step/s]"
     ]
    },
    {
     "name": "stdout",
     "output_type": "stream",
     "text": [
      "Step: 20000, best model saved. (accuracy=0.5899)\n"
     ]
    },
    {
     "name": "stderr",
     "output_type": "stream",
     "text": [
      "Train: 100% 2000/2000 [11:19<00:00,  2.94step/s, accuracy=0.59, loss=1.83, step=22000]\n",
      "Valid: 100% 6944/6944 [00:28<00:00, 241.15uttr/s, accuracy=0.61, loss=1.70]\n",
      "Train: 100% 2000/2000 [11:21<00:00,  2.94step/s, accuracy=0.72, loss=1.07, step=24000]\n",
      "Valid: 100% 6944/6944 [00:28<00:00, 243.51uttr/s, accuracy=0.63, loss=1.61]\n",
      "Train: 100% 2000/2000 [11:22<00:00,  2.93step/s, accuracy=0.78, loss=1.21, step=26000]\n",
      "Valid: 100% 6944/6944 [00:28<00:00, 244.71uttr/s, accuracy=0.63, loss=1.57]\n",
      "Train: 100% 2000/2000 [11:19<00:00,  2.95step/s, accuracy=0.75, loss=0.87, step=28000]\n",
      "Valid: 100% 6944/6944 [00:28<00:00, 242.33uttr/s, accuracy=0.65, loss=1.51]\n",
      "Train: 100% 2000/2000 [11:20<00:00,  2.94step/s, accuracy=0.75, loss=1.28, step=3e+4] \n",
      "Valid: 100% 6944/6944 [00:28<00:00, 240.06uttr/s, accuracy=0.66, loss=1.51]\n",
      "Train:   0% 0/2000 [00:00<?, ?step/s]"
     ]
    },
    {
     "name": "stdout",
     "output_type": "stream",
     "text": [
      "Step: 30000, best model saved. (accuracy=0.6555)\n"
     ]
    },
    {
     "name": "stderr",
     "output_type": "stream",
     "text": [
      "Train: 100% 2000/2000 [11:20<00:00,  2.94step/s, accuracy=0.66, loss=1.50, step=32000]\n",
      "Valid: 100% 6944/6944 [00:28<00:00, 241.13uttr/s, accuracy=0.66, loss=1.44]\n",
      "Train: 100% 2000/2000 [11:22<00:00,  2.93step/s, accuracy=0.75, loss=1.11, step=34000]\n",
      "Valid: 100% 6944/6944 [00:28<00:00, 243.57uttr/s, accuracy=0.67, loss=1.39]\n",
      "Train: 100% 2000/2000 [11:22<00:00,  2.93step/s, accuracy=0.59, loss=1.67, step=36000]\n",
      "Valid: 100% 6944/6944 [00:29<00:00, 235.65uttr/s, accuracy=0.68, loss=1.38]\n",
      "Train: 100% 2000/2000 [11:22<00:00,  2.93step/s, accuracy=0.75, loss=0.93, step=38000]\n",
      "Valid: 100% 6944/6944 [00:28<00:00, 245.13uttr/s, accuracy=0.70, loss=1.31]\n",
      "Train: 100% 2000/2000 [11:21<00:00,  2.93step/s, accuracy=0.78, loss=0.91, step=4e+4] \n",
      "Valid: 100% 6944/6944 [00:28<00:00, 245.38uttr/s, accuracy=0.71, loss=1.27]\n",
      "Train:   0% 0/2000 [00:00<?, ?step/s]"
     ]
    },
    {
     "name": "stdout",
     "output_type": "stream",
     "text": [
      "Step: 40000, best model saved. (accuracy=0.7061)\n"
     ]
    },
    {
     "name": "stderr",
     "output_type": "stream",
     "text": [
      "Train: 100% 2000/2000 [11:22<00:00,  2.93step/s, accuracy=0.69, loss=1.01, step=42000]\n",
      "Valid: 100% 6944/6944 [00:28<00:00, 243.83uttr/s, accuracy=0.71, loss=1.26]\n",
      "Train: 100% 2000/2000 [11:25<00:00,  2.92step/s, accuracy=0.78, loss=1.15, step=44000]\n",
      "Valid: 100% 6944/6944 [00:28<00:00, 241.59uttr/s, accuracy=0.72, loss=1.22]\n",
      "Train: 100% 2000/2000 [11:22<00:00,  2.93step/s, accuracy=0.53, loss=1.94, step=46000]\n",
      "Valid: 100% 6944/6944 [00:28<00:00, 240.06uttr/s, accuracy=0.72, loss=1.19]\n",
      "Train: 100% 2000/2000 [11:20<00:00,  2.94step/s, accuracy=0.75, loss=1.00, step=48000]\n",
      "Valid: 100% 6944/6944 [00:28<00:00, 242.33uttr/s, accuracy=0.73, loss=1.18]\n",
      "Train: 100% 2000/2000 [11:18<00:00,  2.95step/s, accuracy=0.72, loss=1.15, step=5e+4] \n",
      "Valid: 100% 6944/6944 [00:28<00:00, 247.09uttr/s, accuracy=0.72, loss=1.18]\n",
      "Train:   0% 0/2000 [00:00<?, ?step/s]"
     ]
    },
    {
     "name": "stdout",
     "output_type": "stream",
     "text": [
      "Step: 50000, best model saved. (accuracy=0.7260)\n"
     ]
    },
    {
     "name": "stderr",
     "output_type": "stream",
     "text": [
      "Train: 100% 2000/2000 [11:22<00:00,  2.93step/s, accuracy=0.81, loss=0.86, step=52000]\n",
      "Valid: 100% 6944/6944 [00:31<00:00, 220.93uttr/s, accuracy=0.74, loss=1.13]\n",
      "Train: 100% 2000/2000 [11:48<00:00,  2.82step/s, accuracy=0.81, loss=1.01, step=54000]\n",
      "Valid: 100% 6944/6944 [00:28<00:00, 245.10uttr/s, accuracy=0.74, loss=1.12]\n",
      "Train: 100% 2000/2000 [11:24<00:00,  2.92step/s, accuracy=0.78, loss=0.65, step=56000]\n",
      "Valid: 100% 6944/6944 [00:28<00:00, 242.22uttr/s, accuracy=0.75, loss=1.11]\n",
      "Train: 100% 2000/2000 [11:23<00:00,  2.93step/s, accuracy=0.84, loss=0.85, step=58000]\n",
      "Valid: 100% 6944/6944 [00:28<00:00, 239.65uttr/s, accuracy=0.75, loss=1.09]\n",
      "Train: 100% 2000/2000 [11:26<00:00,  2.91step/s, accuracy=0.75, loss=0.90, step=6e+4] \n",
      "Valid: 100% 6944/6944 [00:28<00:00, 242.05uttr/s, accuracy=0.75, loss=1.06]\n",
      "Train:   0% 0/2000 [00:00<?, ?step/s]"
     ]
    },
    {
     "name": "stdout",
     "output_type": "stream",
     "text": [
      "Step: 60000, best model saved. (accuracy=0.7526)\n"
     ]
    },
    {
     "name": "stderr",
     "output_type": "stream",
     "text": [
      "Train: 100% 2000/2000 [11:23<00:00,  2.93step/s, accuracy=0.75, loss=0.77, step=62000]\n",
      "Valid: 100% 6944/6944 [00:29<00:00, 238.20uttr/s, accuracy=0.75, loss=1.11]\n",
      "Train: 100% 2000/2000 [11:28<00:00,  2.90step/s, accuracy=0.75, loss=0.97, step=64000]\n",
      "Valid: 100% 6944/6944 [00:28<00:00, 245.05uttr/s, accuracy=0.75, loss=1.07]\n",
      "Train: 100% 2000/2000 [11:23<00:00,  2.92step/s, accuracy=0.75, loss=0.86, step=66000]\n",
      "Valid: 100% 6944/6944 [00:28<00:00, 245.89uttr/s, accuracy=0.74, loss=1.10]\n",
      "Train: 100% 2000/2000 [11:23<00:00,  2.93step/s, accuracy=0.84, loss=0.76, step=68000]\n",
      "Valid: 100% 6944/6944 [00:29<00:00, 238.15uttr/s, accuracy=0.75, loss=1.08]\n",
      "Train: 100% 2000/2000 [11:22<00:00,  2.93step/s, accuracy=0.81, loss=0.73, step=7e+4] \n",
      "Valid: 100% 6944/6944 [00:29<00:00, 239.07uttr/s, accuracy=0.75, loss=1.09]\n",
      "Train:   0% 0/2000 [00:00<?, ?step/s]\n"
     ]
    },
    {
     "name": "stdout",
     "output_type": "stream",
     "text": [
      "Step: 70000, best model saved. (accuracy=0.7526)\n"
     ]
    },
    {
     "data": {
      "image/png": "[encoded data removed]",
      "text/plain": [
       "<Figure size 720x576 with 1 Axes>"
      ]
     },
     "metadata": {
      "needs_background": "light"
     },
     "output_type": "display_data"
    },
    {
     "data": {
      "image/png": "[encoded data removed]",
      "text/plain": [
       "<Figure size 720x576 with 1 Axes>"
      ]
     },
     "metadata": {
      "needs_background": "light"
     },
     "output_type": "display_data"
    }
   ],
   "source": [
    "from torch.optim import AdamW\n",
    "from torch.utils.data import DataLoader, random_split\n",
    "\n",
    "def parse_args():\n",
    "    '''\n",
    "    arguments\n",
    "    '''\n",
    "    config = {\n",
    "        'data_dir': './Dataset',\n",
    "        'save_path':'model.ckpt',\n",
    "        'batch_size': 32,\n",
    "        'n_workers': 0,\n",
    "        'valid_steps': 2000, \n",
    "        'warmup_steps':1000, \n",
    "        'save_steps': 10000, \n",
    "        'total_steps': 70000,\n",
    "    }\n",
    "    \n",
    "    return config\n",
    "\n",
    "def main(\n",
    "    data_dir, \n",
    "    save_path, \n",
    "    batch_size, \n",
    "    n_workers, \n",
    "    valid_steps, \n",
    "    warmup_steps, \n",
    "    total_steps, \n",
    "    save_steps, \n",
    "): \n",
    "    '''\n",
    "    Main function\n",
    "    '''\n",
    "    device = torch.device('cuda' if torch.cuda.is_available() else 'cpu')\n",
    "    print(f'[Info]: Use {device} now!')\n",
    "    \n",
    "    train_loader, valid_loader, speaker_num = get_dataloader(data_dir, batch_size, n_workers)\n",
    "    train_iterator = iter(train_loader)\n",
    "    print(f'[Info]: Finish loading data!', flush=True)\n",
    "    \n",
    "    model = Classifier(n_speakers=speaker_num).to(device)\n",
    "    criterion = nn.CrossEntropyLoss()\n",
    "    optimizer = AdamW(model.parameters(), lr=1e-3)\n",
    "    scheduler = get_cosine_schedule_with_warmup(optimizer, warmup_steps, total_steps)\n",
    "    print(f'[Info]: Finish creating model!', flush=True)\n",
    "    \n",
    "    best_accuracy = -1.0\n",
    "    best_state_dic = None\n",
    "    \n",
    "    pbar = tqdm(total=valid_steps, ncols=0, desc='Train', unit='step')\n",
    "    \n",
    "    loss_record = {'train': [], 'validate': []}\n",
    "    acc_record = {'train': [], 'validate': []}\n",
    "    \n",
    "    for step in range(total_steps):\n",
    "        # Get data\n",
    "        try:\n",
    "            batch_data = next(train_iterator)\n",
    "        except StopIteration:\n",
    "            train_iterator = iter(train_loader)\n",
    "            batch_data = next(train_iterator)\n",
    "            \n",
    "        loss, accuracy = model_fn(batch_data, model, criterion, device)\n",
    "        batch_loss = loss.item()\n",
    "        batch_accuracy = accuracy.item()\n",
    "        \n",
    "        loss_record['train'].append(batch_loss)\n",
    "        acc_record['train'].append(batch_accuracy)\n",
    "        \n",
    "        # Update model\n",
    "        loss.backward()\n",
    "        optimizer.step()\n",
    "        scheduler.step()\n",
    "        optimizer.zero_grad()\n",
    "        \n",
    "        # Log\n",
    "        pbar.update()\n",
    "        pbar.set_postfix(\n",
    "            loss=f'{batch_loss:.2f}',\n",
    "            accuracy=f'{batch_accuracy:.2f}',\n",
    "            step=step + 1,\n",
    "        )\n",
    "        \n",
    "        # Do validation\n",
    "        if (step + 1) % valid_steps == 0:\n",
    "            pbar.close()\n",
    "            \n",
    "            valid_loss, valid_accuracy = valid(valid_loader, model, criterion, device)\n",
    "            \n",
    "            loss_record['validate'].append(valid_loss)\n",
    "            acc_record['validate'].append(valid_accuracy)\n",
    "            \n",
    "            # keep the best model\n",
    "            if valid_accuracy > best_accuracy: \n",
    "                best_accuracy = valid_accuracy\n",
    "                best_state_dict = model.state_dict()\n",
    "            \n",
    "            pbar = tqdm(total=valid_steps, ncols=0, desc='Train', unit='step')\n",
    "        \n",
    "        # Save the best model so far.\n",
    "        if (step + 1) % save_steps == 0 and best_state_dict is not None:\n",
    "            torch.save(best_state_dict, save_path)\n",
    "            pbar.write(f'Step: {step + 1}, best model saved. (accuracy={best_accuracy:.4f})')\n",
    "            \n",
    "    pbar.close()\n",
    "    \n",
    "    # loss and accuracy visulization\n",
    "    plot_loss_curve(loss_record, total_steps, 'speaker classification')\n",
    "    \n",
    "    plot_acc_curve(acc_record, total_steps, 'speaker classification')\n",
    "    \n",
    "if __name__ == '__main__':\n",
    "    main(**parse_args())"
   ]
  },
  {
   "cell_type": "markdown",
   "id": "221caa6e",
   "metadata": {},
   "source": [
    "### Inference\n",
    "\n",
    "### Dataset of inference"
   ]
  },
  {
   "cell_type": "code",
   "execution_count": 12,
   "id": "a2104b7b",
   "metadata": {},
   "outputs": [],
   "source": [
    "class InferenceDataset(Dataset):\n",
    "    '''\n",
    "    members:\n",
    "        self.data_dir\n",
    "        self.data\n",
    "    '''\n",
    "    def __init__(self, data_dir):\n",
    "        testdata_path = Path(data_dir) / 'testdata.json'\n",
    "        metadata = json.load(testdata_path.open())\n",
    "        self.data_dir = data_dir\n",
    "        self.data = metadata['utterances']\n",
    "        \n",
    "    def __len__(self):\n",
    "        return len(self.data)\n",
    "    \n",
    "    def __getitem__(self, index):\n",
    "        utterance = self.data[index]\n",
    "        feature_path = utterance['feature_path']\n",
    "        mel = torch.load(os.path.join(self.data_dir, feature_path))\n",
    "        \n",
    "        return feature_path, mel\n",
    "    \n",
    "def inference_collate_batch(batch_data):\n",
    "    '''\n",
    "    Collate a batch of data.\n",
    "    '''\n",
    "    feature_paths, mels = zip(*batch_data)\n",
    "    \n",
    "    return feature_paths, torch.stack(mels)      # torch.stack(): torch a iterable object with tensor element into a tensor object"
   ]
  },
  {
   "cell_type": "markdown",
   "id": "8c5f42cf",
   "metadata": {},
   "source": [
    "### Main function of interface"
   ]
  },
  {
   "cell_type": "code",
   "execution_count": 13,
   "id": "49b427cf",
   "metadata": {},
   "outputs": [
    {
     "name": "stdout",
     "output_type": "stream",
     "text": [
      "[Info]: Use cpu now!\n",
      "[Info]: Finish loading inference data!\n",
      "[Info]: Finish creating and loading model!\n"
     ]
    },
    {
     "data": {
      "application/vnd.jupyter.widget-view+json": {
       "model_id": "83ac7fe930e84c1ca333f595abf26b06",
       "version_major": 2,
       "version_minor": 0
      },
      "text/plain": [
       "  0%|          | 0/6000 [00:00<?, ?it/s]"
      ]
     },
     "metadata": {},
     "output_type": "display_data"
    }
   ],
   "source": [
    "import csv\n",
    "from tqdm.notebook import tqdm\n",
    "\n",
    "def parse_args_inference():\n",
    "    '''\n",
    "    Arguments\n",
    "    '''\n",
    "    config = {\n",
    "        'data_dir': './Dataset',\n",
    "        'model_path': './model.ckpt', \n",
    "        'output_path': './output.csv',\n",
    "    }\n",
    "    \n",
    "    return config\n",
    "\n",
    "def main_inference(\n",
    "    data_dir, \n",
    "    model_path, \n",
    "    output_path, \n",
    "):\n",
    "    '''\n",
    "    Main function for inference.\n",
    "    '''\n",
    "    device = torch.device('cuda' if torch.cuda.is_available() else 'cpu')\n",
    "    print(f'[Info]: Use {device} now!')\n",
    "    \n",
    "    mapping_path = Path(data_dir) / 'mapping.json'\n",
    "    mapping = json.load(mapping_path.open())\n",
    "    \n",
    "    dataset = InferenceDataset(data_dir)\n",
    "    dataloader = DataLoader(\n",
    "        dataset, \n",
    "        batch_size=1, \n",
    "        shuffle=False, \n",
    "        num_workers=0, \n",
    "        collate_fn=inference_collate_batch, \n",
    "    )\n",
    "    print(f'[Info]: Finish loading inference data!', flush=True)\n",
    "    \n",
    "    speaker_num = len(mapping['id2speaker'])\n",
    "    model = Classifier(n_speakers=speaker_num).to(device)\n",
    "    model.load_state_dict(torch.load(model_path))\n",
    "    model.eval()\n",
    "    print(f'[Info]: Finish creating and loading model!', flush=True)\n",
    "    \n",
    "    results = [['Id', 'Category']]\n",
    "    for feature_paths, mels in tqdm(dataloader): \n",
    "        with torch.no_grad():\n",
    "            mels = mels.to(device)\n",
    "            outs = model(mels)\n",
    "            preds = outs.argmax(1).cpu().numpy()\n",
    "            \n",
    "            for feature_path, pred in zip(feature_paths, preds): \n",
    "                results.append([feature_path, mapping['id2speaker'][str(pred)]])\n",
    "    \n",
    "    with open(output_path, 'w', newline='') as csvfile: \n",
    "        writer = csv.writer(csvfile)\n",
    "        writer.writerows(results)\n",
    "        \n",
    "if __name__ == '__main__': \n",
    "    main_inference(**parse_args_inference())"
   ]
  },
  {
   "cell_type": "markdown",
   "id": "1c33c0e4",
   "metadata": {},
   "source": [
    "### Reference\n",
    "\n",
    "Original source: https://github.com/ga642381/ML2021-Spring/blob/main/HW04/HW04.ipynb"
   ]
  }
 ],
 "metadata": {
  "kernelspec": {
   "display_name": "Python [conda env:test] *",
   "language": "python",
   "name": "conda-env-test-py"
  },
  "language_info": {
   "codemirror_mode": {
    "name": "ipython",
    "version": 3
   },
   "file_extension": ".py",
   "mimetype": "text/x-python",
   "name": "python",
   "nbconvert_exporter": "python",
   "pygments_lexer": "ipython3",
   "version": "3.9.7"
  }
 },
 "nbformat": 4,
 "nbformat_minor": 5
}
